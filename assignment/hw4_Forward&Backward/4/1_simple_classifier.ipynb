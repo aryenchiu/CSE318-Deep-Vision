{
  "cells": [
    {
      "cell_type": "markdown",
      "metadata": {
        "id": "52RNin5WNfkC"
      },
      "source": [
        "# Simple Classifier / Logistic Regression\n",
        "\n",
        "After having worked with the Dataloading part last week, we want to start this week to take a more detailed look into how the training process looks like. So far, our tools are limited and we must restrict ourselves to a simplified model. But nevertheless, this gives us the opportunity to look at the different parts of the training process in more detail and builds up a good base when we turn to more complicated model architectures in the next exercises. \n",
        "\n",
        "This notebook will demonstrate a simple logistic regression model predicting whether a house is ```low-priced``` or ```expensive```. The data that we will use here is the HousingPrice dataset. Feeding some features in our classifier, the output should then be a score that determines in which category the considered house is.\n"
      ]
    },
    {
      "cell_type": "markdown",
      "metadata": {
        "id": "NKQ5LHtLNfkF"
      },
      "source": [
        "Before we start, let us first import some libraries and code that we will need along the way. "
      ]
    },
    {
      "cell_type": "code",
      "source": [
        "from google.colab import drive\n",
        "drive.mount('/content/drive')"
      ],
      "metadata": {
        "id": "uRAV14ySNzTC",
        "colab": {
          "base_uri": "https://localhost:8080/"
        },
        "outputId": "ccc4568e-2144-44e8-ebef-0b3593aa0a79"
      },
      "execution_count": 1,
      "outputs": [
        {
          "output_type": "stream",
          "name": "stdout",
          "text": [
            "Drive already mounted at /content/drive; to attempt to forcibly remount, call drive.mount(\"/content/drive\", force_remount=True).\n"
          ]
        }
      ]
    },
    {
      "cell_type": "code",
      "source": [
        "#for colab ,you can delete it\n",
        "import os\n",
        "os.listdir()\n",
        "GOOGLE_DRIVE_PATH_AFTER_MYDRIVE = 'Colab Notebooks/4'\n",
        "GOOGLE_DRIVE_PATH = os.path.join('/content','drive', 'My Drive', GOOGLE_DRIVE_PATH_AFTER_MYDRIVE)\n",
        "os.chdir(GOOGLE_DRIVE_PATH)\n",
        "print(os.listdir(GOOGLE_DRIVE_PATH))"
      ],
      "metadata": {
        "id": "sqOdsAl5N6j7",
        "colab": {
          "base_uri": "https://localhost:8080/"
        },
        "outputId": "fb3913ad-4710-4ae0-c56f-97e68216d343"
      },
      "execution_count": 2,
      "outputs": [
        {
          "output_type": "stream",
          "name": "stdout",
          "text": [
            "['__init__.py', 'housing_data_preprocessing(optional).ipynb', 'exercise_code', 'images', '1_simple_classifier.ipynb', 'exercise04.zip', 'models']\n"
          ]
        }
      ]
    },
    {
      "cell_type": "code",
      "execution_count": 3,
      "metadata": {
        "pycharm": {
          "name": "#%%\n"
        },
        "id": "1CJweIuQNfkF"
      },
      "outputs": [],
      "source": [
        "from exercise_code.data.csv_dataset import CSVDataset\n",
        "from exercise_code.data.csv_dataset import FeatureSelectorAndNormalizationTransform\n",
        "from exercise_code.data.dataloader import DataLoader\n",
        "\n",
        "import matplotlib.pyplot as plt\n",
        "import numpy as np\n",
        "import os\n",
        "import pandas as pd\n",
        "import seaborn as sns\n",
        "\n",
        "\n",
        "pd.options.mode.chained_assignment = None  # default='warn'\n",
        "\n",
        "%matplotlib inline\n",
        "%load_ext autoreload\n",
        "%autoreload 2"
      ]
    },
    {
      "cell_type": "markdown",
      "metadata": {
        "id": "AkDMWNbENfkH"
      },
      "source": [
        "## 0. Dataloading and Data Preprocessing\n",
        "\n",
        "Let us load the data that we want to use for our training. The method `get_housing_data()` is providing you with a training, validation and test set that is ready to use.\n",
        "\n",
        "For more information about how to prepare the data and what the final data look like, you can have a look at the notebook `housing_data_preprocessing(optional).ipynb `. We reduced our data and the remaining houses in our dataset are now either labeled with ```1``` and hence categorized as ```expensive```, or they are labeled with ```0``` and hence categorized as ```low-priced```.\n"
      ]
    },
    {
      "cell_type": "code",
      "execution_count": 4,
      "metadata": {
        "pycharm": {
          "name": "#%%\n"
        },
        "id": "djn639ABNfkH",
        "colab": {
          "base_uri": "https://localhost:8080/",
          "height": 514
        },
        "outputId": "fe125994-6321-4fc2-b885-c851ed1e9770"
      },
      "outputs": [
        {
          "output_type": "stream",
          "name": "stderr",
          "text": [
            "/content/drive/My Drive/Colab Notebooks/4/exercise_code/networks/utils.py:69: FutureWarning: Dropping of nuisance columns in DataFrame reductions (with 'numeric_only=None') is deprecated; in a future version this will raise TypeError.  Select only valid columns before calling the reduction.\n",
            "  mn, mx, mean = df.min(), df.max(), df.mean()\n"
          ]
        },
        {
          "output_type": "stream",
          "name": "stdout",
          "text": [
            "You successfully loaded your data! \n",
            "\n",
            "train data shape: (533, 1)\n",
            "train targets shape: (533, 1)\n",
            "val data shape: (167, 1)\n",
            "val targets shape: (167, 1)\n",
            "test data shape: (177, 1)\n",
            "test targets shape: (177, 1) \n",
            "\n",
            "The original dataset looks as follows:\n"
          ]
        },
        {
          "output_type": "execute_result",
          "data": {
            "text/plain": [
              "      Id  MSSubClass MSZoning  LotFrontage  LotArea Street Alley LotShape  \\\n",
              "529  530          20       RL          NaN    32668   Pave   NaN      IR1   \n",
              "491  492          50       RL         79.0     9490   Pave   NaN      Reg   \n",
              "459  460          50       RL          NaN     7015   Pave   NaN      IR1   \n",
              "279  280          60       RL         83.0    10005   Pave   NaN      Reg   \n",
              "655  656         160       RM         21.0     1680   Pave   NaN      Reg   \n",
              "\n",
              "    LandContour Utilities  ... PoolArea PoolQC  Fence MiscFeature MiscVal  \\\n",
              "529         Lvl    AllPub  ...        0    NaN    NaN         NaN       0   \n",
              "491         Lvl    AllPub  ...        0    NaN  MnPrv         NaN       0   \n",
              "459         Bnk    AllPub  ...        0    NaN    NaN         NaN       0   \n",
              "279         Lvl    AllPub  ...        0    NaN    NaN         NaN       0   \n",
              "655         Lvl    AllPub  ...        0    NaN    NaN         NaN       0   \n",
              "\n",
              "    MoSold YrSold  SaleType  SaleCondition  SalePrice  \n",
              "529      3   2007        WD         Alloca     200624  \n",
              "491      8   2006        WD         Normal     133000  \n",
              "459      7   2009        WD         Normal     110000  \n",
              "279      3   2008        WD         Normal     192000  \n",
              "655      3   2010        WD         Family      88000  \n",
              "\n",
              "[5 rows x 81 columns]"
            ],
            "text/html": [
              "\n",
              "  <div id=\"df-f5f8de43-3225-49ce-9bd2-d966796689db\">\n",
              "    <div class=\"colab-df-container\">\n",
              "      <div>\n",
              "<style scoped>\n",
              "    .dataframe tbody tr th:only-of-type {\n",
              "        vertical-align: middle;\n",
              "    }\n",
              "\n",
              "    .dataframe tbody tr th {\n",
              "        vertical-align: top;\n",
              "    }\n",
              "\n",
              "    .dataframe thead th {\n",
              "        text-align: right;\n",
              "    }\n",
              "</style>\n",
              "<table border=\"1\" class=\"dataframe\">\n",
              "  <thead>\n",
              "    <tr style=\"text-align: right;\">\n",
              "      <th></th>\n",
              "      <th>Id</th>\n",
              "      <th>MSSubClass</th>\n",
              "      <th>MSZoning</th>\n",
              "      <th>LotFrontage</th>\n",
              "      <th>LotArea</th>\n",
              "      <th>Street</th>\n",
              "      <th>Alley</th>\n",
              "      <th>LotShape</th>\n",
              "      <th>LandContour</th>\n",
              "      <th>Utilities</th>\n",
              "      <th>...</th>\n",
              "      <th>PoolArea</th>\n",
              "      <th>PoolQC</th>\n",
              "      <th>Fence</th>\n",
              "      <th>MiscFeature</th>\n",
              "      <th>MiscVal</th>\n",
              "      <th>MoSold</th>\n",
              "      <th>YrSold</th>\n",
              "      <th>SaleType</th>\n",
              "      <th>SaleCondition</th>\n",
              "      <th>SalePrice</th>\n",
              "    </tr>\n",
              "  </thead>\n",
              "  <tbody>\n",
              "    <tr>\n",
              "      <th>529</th>\n",
              "      <td>530</td>\n",
              "      <td>20</td>\n",
              "      <td>RL</td>\n",
              "      <td>NaN</td>\n",
              "      <td>32668</td>\n",
              "      <td>Pave</td>\n",
              "      <td>NaN</td>\n",
              "      <td>IR1</td>\n",
              "      <td>Lvl</td>\n",
              "      <td>AllPub</td>\n",
              "      <td>...</td>\n",
              "      <td>0</td>\n",
              "      <td>NaN</td>\n",
              "      <td>NaN</td>\n",
              "      <td>NaN</td>\n",
              "      <td>0</td>\n",
              "      <td>3</td>\n",
              "      <td>2007</td>\n",
              "      <td>WD</td>\n",
              "      <td>Alloca</td>\n",
              "      <td>200624</td>\n",
              "    </tr>\n",
              "    <tr>\n",
              "      <th>491</th>\n",
              "      <td>492</td>\n",
              "      <td>50</td>\n",
              "      <td>RL</td>\n",
              "      <td>79.0</td>\n",
              "      <td>9490</td>\n",
              "      <td>Pave</td>\n",
              "      <td>NaN</td>\n",
              "      <td>Reg</td>\n",
              "      <td>Lvl</td>\n",
              "      <td>AllPub</td>\n",
              "      <td>...</td>\n",
              "      <td>0</td>\n",
              "      <td>NaN</td>\n",
              "      <td>MnPrv</td>\n",
              "      <td>NaN</td>\n",
              "      <td>0</td>\n",
              "      <td>8</td>\n",
              "      <td>2006</td>\n",
              "      <td>WD</td>\n",
              "      <td>Normal</td>\n",
              "      <td>133000</td>\n",
              "    </tr>\n",
              "    <tr>\n",
              "      <th>459</th>\n",
              "      <td>460</td>\n",
              "      <td>50</td>\n",
              "      <td>RL</td>\n",
              "      <td>NaN</td>\n",
              "      <td>7015</td>\n",
              "      <td>Pave</td>\n",
              "      <td>NaN</td>\n",
              "      <td>IR1</td>\n",
              "      <td>Bnk</td>\n",
              "      <td>AllPub</td>\n",
              "      <td>...</td>\n",
              "      <td>0</td>\n",
              "      <td>NaN</td>\n",
              "      <td>NaN</td>\n",
              "      <td>NaN</td>\n",
              "      <td>0</td>\n",
              "      <td>7</td>\n",
              "      <td>2009</td>\n",
              "      <td>WD</td>\n",
              "      <td>Normal</td>\n",
              "      <td>110000</td>\n",
              "    </tr>\n",
              "    <tr>\n",
              "      <th>279</th>\n",
              "      <td>280</td>\n",
              "      <td>60</td>\n",
              "      <td>RL</td>\n",
              "      <td>83.0</td>\n",
              "      <td>10005</td>\n",
              "      <td>Pave</td>\n",
              "      <td>NaN</td>\n",
              "      <td>Reg</td>\n",
              "      <td>Lvl</td>\n",
              "      <td>AllPub</td>\n",
              "      <td>...</td>\n",
              "      <td>0</td>\n",
              "      <td>NaN</td>\n",
              "      <td>NaN</td>\n",
              "      <td>NaN</td>\n",
              "      <td>0</td>\n",
              "      <td>3</td>\n",
              "      <td>2008</td>\n",
              "      <td>WD</td>\n",
              "      <td>Normal</td>\n",
              "      <td>192000</td>\n",
              "    </tr>\n",
              "    <tr>\n",
              "      <th>655</th>\n",
              "      <td>656</td>\n",
              "      <td>160</td>\n",
              "      <td>RM</td>\n",
              "      <td>21.0</td>\n",
              "      <td>1680</td>\n",
              "      <td>Pave</td>\n",
              "      <td>NaN</td>\n",
              "      <td>Reg</td>\n",
              "      <td>Lvl</td>\n",
              "      <td>AllPub</td>\n",
              "      <td>...</td>\n",
              "      <td>0</td>\n",
              "      <td>NaN</td>\n",
              "      <td>NaN</td>\n",
              "      <td>NaN</td>\n",
              "      <td>0</td>\n",
              "      <td>3</td>\n",
              "      <td>2010</td>\n",
              "      <td>WD</td>\n",
              "      <td>Family</td>\n",
              "      <td>88000</td>\n",
              "    </tr>\n",
              "  </tbody>\n",
              "</table>\n",
              "<p>5 rows × 81 columns</p>\n",
              "</div>\n",
              "      <button class=\"colab-df-convert\" onclick=\"convertToInteractive('df-f5f8de43-3225-49ce-9bd2-d966796689db')\"\n",
              "              title=\"Convert this dataframe to an interactive table.\"\n",
              "              style=\"display:none;\">\n",
              "        \n",
              "  <svg xmlns=\"http://www.w3.org/2000/svg\" height=\"24px\"viewBox=\"0 0 24 24\"\n",
              "       width=\"24px\">\n",
              "    <path d=\"M0 0h24v24H0V0z\" fill=\"none\"/>\n",
              "    <path d=\"M18.56 5.44l.94 2.06.94-2.06 2.06-.94-2.06-.94-.94-2.06-.94 2.06-2.06.94zm-11 1L8.5 8.5l.94-2.06 2.06-.94-2.06-.94L8.5 2.5l-.94 2.06-2.06.94zm10 10l.94 2.06.94-2.06 2.06-.94-2.06-.94-.94-2.06-.94 2.06-2.06.94z\"/><path d=\"M17.41 7.96l-1.37-1.37c-.4-.4-.92-.59-1.43-.59-.52 0-1.04.2-1.43.59L10.3 9.45l-7.72 7.72c-.78.78-.78 2.05 0 2.83L4 21.41c.39.39.9.59 1.41.59.51 0 1.02-.2 1.41-.59l7.78-7.78 2.81-2.81c.8-.78.8-2.07 0-2.86zM5.41 20L4 18.59l7.72-7.72 1.47 1.35L5.41 20z\"/>\n",
              "  </svg>\n",
              "      </button>\n",
              "      \n",
              "  <style>\n",
              "    .colab-df-container {\n",
              "      display:flex;\n",
              "      flex-wrap:wrap;\n",
              "      gap: 12px;\n",
              "    }\n",
              "\n",
              "    .colab-df-convert {\n",
              "      background-color: #E8F0FE;\n",
              "      border: none;\n",
              "      border-radius: 50%;\n",
              "      cursor: pointer;\n",
              "      display: none;\n",
              "      fill: #1967D2;\n",
              "      height: 32px;\n",
              "      padding: 0 0 0 0;\n",
              "      width: 32px;\n",
              "    }\n",
              "\n",
              "    .colab-df-convert:hover {\n",
              "      background-color: #E2EBFA;\n",
              "      box-shadow: 0px 1px 2px rgba(60, 64, 67, 0.3), 0px 1px 3px 1px rgba(60, 64, 67, 0.15);\n",
              "      fill: #174EA6;\n",
              "    }\n",
              "\n",
              "    [theme=dark] .colab-df-convert {\n",
              "      background-color: #3B4455;\n",
              "      fill: #D2E3FC;\n",
              "    }\n",
              "\n",
              "    [theme=dark] .colab-df-convert:hover {\n",
              "      background-color: #434B5C;\n",
              "      box-shadow: 0px 1px 3px 1px rgba(0, 0, 0, 0.15);\n",
              "      filter: drop-shadow(0px 1px 2px rgba(0, 0, 0, 0.3));\n",
              "      fill: #FFFFFF;\n",
              "    }\n",
              "  </style>\n",
              "\n",
              "      <script>\n",
              "        const buttonEl =\n",
              "          document.querySelector('#df-f5f8de43-3225-49ce-9bd2-d966796689db button.colab-df-convert');\n",
              "        buttonEl.style.display =\n",
              "          google.colab.kernel.accessAllowed ? 'block' : 'none';\n",
              "\n",
              "        async function convertToInteractive(key) {\n",
              "          const element = document.querySelector('#df-f5f8de43-3225-49ce-9bd2-d966796689db');\n",
              "          const dataTable =\n",
              "            await google.colab.kernel.invokeFunction('convertToInteractive',\n",
              "                                                     [key], {});\n",
              "          if (!dataTable) return;\n",
              "\n",
              "          const docLinkHtml = 'Like what you see? Visit the ' +\n",
              "            '<a target=\"_blank\" href=https://colab.research.google.com/notebooks/data_table.ipynb>data table notebook</a>'\n",
              "            + ' to learn more about interactive tables.';\n",
              "          element.innerHTML = '';\n",
              "          dataTable['output_type'] = 'display_data';\n",
              "          await google.colab.output.renderOutput(dataTable, element);\n",
              "          const docLink = document.createElement('div');\n",
              "          docLink.innerHTML = docLinkHtml;\n",
              "          element.appendChild(docLink);\n",
              "        }\n",
              "      </script>\n",
              "    </div>\n",
              "  </div>\n",
              "  "
            ]
          },
          "metadata": {},
          "execution_count": 4
        }
      ],
      "source": [
        "from exercise_code.networks.utils import *\n",
        "\n",
        "X_train, y_train, X_val, y_val, X_test, y_test, train_dataset = get_housing_data()\n",
        "\n",
        "print(\"train data shape:\", X_train.shape)\n",
        "print(\"train targets shape:\", y_train.shape)\n",
        "print(\"val data shape:\", X_val.shape)\n",
        "print(\"val targets shape:\", y_val.shape)\n",
        "print(\"test data shape:\", X_test.shape)\n",
        "print(\"test targets shape:\", y_test.shape, '\\n')\n",
        "\n",
        "print('The original dataset looks as follows:')\n",
        "train_dataset.df.head()"
      ]
    },
    {
      "cell_type": "markdown",
      "metadata": {
        "pycharm": {
          "name": "#%% md\n"
        },
        "id": "Ftya8OFJNfkH"
      },
      "source": [
        "The data is now ready and can be used to train our classifier model."
      ]
    },
    {
      "cell_type": "markdown",
      "metadata": {
        "id": "-jBrhSBONfkI"
      },
      "source": [
        "## 1. Set up a Classifier Model\n",
        "\n",
        "Let $\\mathbf{X} \\in \\mathbb{R}^{N\\times (D+1)}$ be our data with $N$ samples and $D$ feature dimensions. With our classifier model, we want to predict binary labels $\\mathbf{\\hat{y}} \\in \\mathbb{R}^{N\\times 1}$. Our classifier model should be of the form\n",
        "\n",
        "$$ \\mathbf{\\hat{y}}  = \\sigma \\left( \\mathbf{X} \\cdot \\mathbf{w} \\right), $$ \n",
        "\n",
        "$ $ where $\\mathbf{w}\\in \\mathbb{R}^{(D+1) \\times 1}$ is the weight matrix of our model.\n",
        "\n",
        "The **sigmoid function** $\\sigma: \\mathbb{R} \\to [0, 1]$, defined by \n",
        "\n",
        "$$ \\sigma(t) = \\frac{1}{1+e^{-t}}, $$\n",
        "\n",
        "is used to squash the outputs of the linear layer into the interval $[0, 1]$. Remember that the sigmoid function is a real-valued function. When applying it on a vector, the sigmoid is operating component-wise.\n",
        "\n",
        "The output of the sigmoid function can be seen as the probability that our sample is indicating a house that can be categorized as ```expensive```. As the probability gets closer to 1, our model is more confident that the input sample is in the class ```expensive```.\n",
        "\n",
        "<img src=\"https://miro.medium.com/max/2400/1*RqXFpiNGwdiKBWyLJc_E7g.png\" width=\"800\">"
      ]
    },
    {
      "cell_type": "markdown",
      "metadata": {
        "id": "uKiY8F1mNfkJ"
      },
      "source": [
        "<div class=\"alert alert-success\">\n",
        "    <h3>Task: Check Code</h3>\n",
        "    <p>Take a look at the implementation of the <code>Classifier</code> class in <code>exercise_code/networks/classifier.py</code>. To create a <code>Classifier</code> object, you need to define the number of features that our classifier model takes as input.</p>\n",
        "</div>"
      ]
    },
    {
      "cell_type": "markdown",
      "metadata": {
        "id": "wGE6Q7ndNfkJ"
      },
      "source": [
        "## 2. Loss: Binary Cross Entropy\n",
        "\n",
        "For a binary classification like our task, we use a loss function called Binary Cross-Entropy (BCE).\n",
        "\n",
        "$$BCE(y,\\hat{y}) =- y \\cdot log(\\hat y ) - (1- y) \\cdot log(1-\\hat y) $$\n",
        "\n",
        "where $y\\in\\mathbb{R}$ is the ground truth and $\\hat y\\in\\mathbb{R}$ is the predicted probability of the house being expensive.\n",
        "\n",
        "Since the BCE function is a non-convex function, there is no closed-form solution for the optimal weights vector. In order to find the optimal parameters for our model, we need to use numeric methods such as Gradient Descent. But let us have a look at that later. First, you have to complete your first task:"
      ]
    },
    {
      "cell_type": "markdown",
      "metadata": {
        "id": "PywYX3vpNfkK"
      },
      "source": [
        "<div class=\"alert alert-info\">\n",
        "    <h3>Task: Implement</h3>\n",
        "    <p>In <code>exercise_code/networks/loss.py</code> complete the implementation of the BCE loss function. You need to write the forward and backward pass of BCE as <code>forward()</code> and <code>backward()</code> function. The backward pass of the loss is needed to later optimize your weights of the model. You can test your implementation by the included testing code in the cell below.</p>\n",
        "</div>"
      ]
    },
    {
      "cell_type": "code",
      "execution_count": 5,
      "metadata": {
        "pycharm": {
          "name": "#%%\n"
        },
        "id": "7ag-W6gBNfkK",
        "colab": {
          "base_uri": "https://localhost:8080/"
        },
        "outputId": "b6472844-399d-4a6e-97b7-d2a9452d2a3f"
      },
      "outputs": [
        {
          "output_type": "stream",
          "name": "stdout",
          "text": [
            "BCEForwardTest passed.\n",
            "BCEBackwardTest passed.\n",
            "Congratulations you have passed all the unit tests!!! Tests passed: 2/2\n",
            "(0, 2)\n"
          ]
        }
      ],
      "source": [
        "from exercise_code.tests.loss_tests import *\n",
        "from exercise_code.networks.loss import BCE\n",
        "\n",
        "bce_loss = BCE()\n",
        "print (BCETest(bce_loss)())"
      ]
    },
    {
      "cell_type": "markdown",
      "metadata": {
        "pycharm": {
          "name": "#%% md\n"
        },
        "id": "mpBl6bhdNfkK"
      },
      "source": [
        "## 3. Backpropagation\n",
        "\n",
        "The backpropagation algorithm allows the information from the loss flowing backward through the network in order to compute the gradient of the loss function $L$ w.r.t the weights $w$ of the model. \n",
        "\n",
        "The key idea of backpropagation is decomposing the derivatives by applying the chain rule to the loss function.\n",
        "\n",
        "$$ \\frac{\\partial L(w)}{\\partial w} = \\frac{\\partial L(w)}{\\partial \\hat y} \\cdot \\frac{\\partial \\hat y}{\\partial w}$$\n",
        "\n",
        "You have already completed the `forward()` and `backward()` pass of the loss function, which can be used to compute the derivative  $\\frac{\\partial L(w)}{\\partial \\hat y}$. In order to compute the second term $\\frac{\\partial \\hat y}{\\partial w}$, we need to implement a similar `forward()` and `backward()` method in our `Classifier` class.\n",
        "\n",
        "### Backward Pass\n",
        "\n",
        "The backward pass consists of computing the derivative $\\frac{\\partial \\hat y}{\\partial w}$. Again, we can decompose this derivative by the chain rule: For $s = X \\cdot w$ we obtain\n",
        "\n",
        "$$\\frac{\\partial \\hat y}{\\partial w} = \\frac{\\partial \\sigma(s)}{\\partial w} = \\frac{\\partial \\sigma(s)}{\\partial s} \\cdot \\frac{\\partial s}{\\partial w}$$\n",
        "\n",
        "\n",
        "**Hint:** Taking track of the dimensions in higher-dimensional settings can make the task a little bit complicated. Make sure you understand the operations here. If you have difficulties, first try to understand the forward and backward pass if the input is only one sample consisting of $D+1$ features. Then our data matrix has dimension $X \\in \\mathbb{R}^{1 \\times (D+1)}$. After you understood this situation, you can go back to the setting where our data matrix has dimension $X \\in \\mathbb{R}^{N \\times (D+1)}$ and consists of $N$ samples each having $D+1$ features."
      ]
    },
    {
      "cell_type": "markdown",
      "metadata": {
        "id": "sMfJcXBHNfkL"
      },
      "source": [
        "<div class=\"alert alert-info\">\n",
        "    <h3>Task: Implement</h3>\n",
        "    <p>Implement the <code>forward()</code> and <code>backward()</code> pass as well as the <code>sigmoid()</code> function in the <code>Classifier</code> class in <code>exercise_code/networks/classifier.py</code>. Check your implementation using the following testing code.</p>\n",
        "</div>"
      ]
    },
    {
      "cell_type": "code",
      "execution_count": 6,
      "metadata": {
        "pycharm": {
          "name": "#%%\n"
        },
        "id": "UjoJgVgJNfkL",
        "colab": {
          "base_uri": "https://localhost:8080/"
        },
        "outputId": "3f28e541-ac42-452a-90bf-f9a3fee858d1"
      },
      "outputs": [
        {
          "output_type": "stream",
          "name": "stdout",
          "text": [
            "Sigmoid_Of_Zero passed.\n",
            "Sigmoid_Of_Zero_Array passed.\n",
            "Sigmoid_Of_100 passed.\n",
            "Sigmoid_Of_Array_of_100 passed.\n",
            "Method sigmoid() correctly implemented. Tests passed: 4/4\n",
            "ClassifierForwardTest passed.\n",
            "Method forward() correctly implemented. Tests passed: 1/1\n",
            "ClassifierBackwardTest passed.\n",
            "Method backward() correctly implemented. Tests passed: 1/1\n",
            "Congratulations you have passed all the unit tests!!! Tests passed: 6/6\n",
            "Score: 100/100\n"
          ]
        },
        {
          "output_type": "execute_result",
          "data": {
            "text/plain": [
              "100"
            ]
          },
          "metadata": {},
          "execution_count": 6
        }
      ],
      "source": [
        "from exercise_code.networks.classifier import Classifier\n",
        "from exercise_code.tests.classifier_test import *\n",
        "test_classifier(Classifier(num_features=2))"
      ]
    },
    {
      "cell_type": "markdown",
      "metadata": {
        "id": "uUxi9Se4NfkL"
      },
      "source": [
        "## 4. Optimizer and Gradient Descent\n",
        "\n",
        "Previously, we have successfully dealt with the loss function, which is a method of measuring how well our model fits the given data. The idea of the training process is to adjust iteratively the weights of our model in order to minimize the loss function. \n",
        "\n",
        "And this is where the optimizer comes in. In each training step, the optimizer updates the weights of the model w.r.t. the output of the loss function, thereby linking the loss function and model parameters together. The goal is to obtain a model which is accurately predicting the class for a new sample.\n",
        "\n",
        "\n",
        "Any discussion about optimizers needs to begin with the most popular one, and it's called Gradient Descent. This algorithm is used across all types of Machine Learning (and other math problems) to optimize. It's fast, robust, and flexible. Here's how it works:\n",
        "\n",
        "\n",
        "0. Initialize the weights with random values.\n",
        "1. Calculate loss with the current weights and the loss function.\n",
        "2. Calculate the gradient of the loss function w.r.t. the weights.\n",
        "3. Update weights with the corresponding gradient.\n",
        "4. Iteratively perform Step 1 to 3 until converges.\n",
        "\n",
        "The name of the optimizer already hints at the required concept: We use gradients which are very useful for minimizing a function. The gradient of the loss function w.r.t to the weights $w$ of our model tells us how to change our weights $w$ in order to minimize our loss function. \n",
        "\n",
        "The weights are updated each step as follows:\n",
        "$$ w^{(n+1)} = w^{(n)} - \\alpha \\cdot \\frac {dL}{dw}, $$\n",
        "where $ \\frac {dL}{dw}$ is the gradient of your loss function w.r.t. the weights $w$ and $\\alpha$ is the learning rate which is a predefined positive scalar determining the size of the step."
      ]
    },
    {
      "cell_type": "markdown",
      "metadata": {
        "pycharm": {
          "name": "#%% md\n"
        },
        "id": "7MbQv0_MNfkL"
      },
      "source": [
        "<div class=\"alert alert-info\">\n",
        "    <h3>Task: Implement</h3>\n",
        "    <p>In our model, we will use gradient descent to update the weights. Take a look at the <code>Optimizer</code> class in the file <code>networks/optimizer.py</code>. Your task is now to implement the gradient descent step in the <code>step()</code> method. You can test your implementation by the following testing code.</p>\n",
        "</div>"
      ]
    },
    {
      "cell_type": "code",
      "execution_count": 7,
      "metadata": {
        "pycharm": {
          "name": "#%%\n"
        },
        "id": "IukyYK_iNfkL",
        "colab": {
          "base_uri": "https://localhost:8080/"
        },
        "outputId": "6947254e-f10c-4ee9-cf32-1e0352df6aba"
      },
      "outputs": [
        {
          "output_type": "stream",
          "name": "stdout",
          "text": [
            "OptimizerStepTest passed.\n",
            "Congratulations you have passed all the unit tests!!! Tests passed: 1/1\n",
            "Score: 100/100\n"
          ]
        },
        {
          "output_type": "execute_result",
          "data": {
            "text/plain": [
              "100"
            ]
          },
          "metadata": {},
          "execution_count": 7
        }
      ],
      "source": [
        "from exercise_code.networks.optimizer import Optimizer\n",
        "from exercise_code.networks.classifier import Classifier\n",
        "from exercise_code.tests.optimizer_test import *\n",
        "TestClassifier=Classifier(num_features=2)\n",
        "TestClassifier.initialize_weights()\n",
        "test_optimizer(Optimizer(TestClassifier))"
      ]
    },
    {
      "cell_type": "markdown",
      "metadata": {
        "id": "_KaRQKqrNfkL"
      },
      "source": [
        "## 5. Training\n",
        "\n",
        "We have now implemented all the necessary parts of our training process, namely:\n",
        "- **Classifier Model:** We set up a simple classifier model and you implemented the corresponding ```forward()``` and ```backward()``` methods.\n",
        "- **Loss function:** We chose the Binary Cross Entropy Loss for our model to measure the distance between the prediction of our model and the ground-truth labels. You implemented a forward and backward pass for the loss function.\n",
        "- **Optimizer**: We use the Gradient Descent method to update the weights of our model. Here, you implemented the ```step()``` function which performs the update of the weights. \n",
        "\n",
        "<div class=\"alert alert-success\">\n",
        "    <h3>Task: Check Code</h3>\n",
        "    <p>Before we start our training and put all the parts together, let us shortly talk about the weight initialization. In <code>networks/classifier.py</code> you can check the <code>Classifier</code> class. It contains a method called <code>initialize_weights()</code> that randomly initializes the weights of our classifier model. Later in the lecture, we will learn about more efficient methods to initialize the weights. But for now, a random initialization as it happens in the <code>initialize_weights()</code> method is sufficient.</p>\n",
        "</div>\n",
        "\n",
        "Let's start with our classifier model and look at its performance before any training happened. "
      ]
    },
    {
      "cell_type": "code",
      "execution_count": 8,
      "metadata": {
        "pycharm": {
          "name": "#%%\n"
        },
        "id": "6edLbDQmNfkM",
        "colab": {
          "base_uri": "https://localhost:8080/",
          "height": 283
        },
        "outputId": "54cea22b-ca28-4f85-a342-c3751e33d018"
      },
      "outputs": [
        {
          "output_type": "execute_result",
          "data": {
            "text/plain": [
              "[<matplotlib.lines.Line2D at 0x7ff2cd79c8d0>]"
            ]
          },
          "metadata": {},
          "execution_count": 8
        },
        {
          "output_type": "display_data",
          "data": {
            "text/plain": [
              "<Figure size 432x288 with 1 Axes>"
            ],
            "image/png": "[encoded data removed]"
          },
          "metadata": {
            "needs_background": "light"
          }
        }
      ],
      "source": [
        "from exercise_code.networks.classifier import Classifier\n",
        "\n",
        "#initialization\n",
        "model = Classifier(num_features=1)\n",
        "model.initialize_weights()\n",
        "\n",
        "y_out, _ = model(X_train)\n",
        "\n",
        "# plot the prediction\n",
        "plt.scatter(X_train, y_train)\n",
        "plt.plot(X_train, y_out, color='r')"
      ]
    },
    {
      "cell_type": "markdown",
      "metadata": {
        "id": "KvTB1WSPNfkM"
      },
      "source": [
        "As you can see the predictions of our model without any training are very bad. Let's see how the performance improves when we start our training, which means that we update our weights by applying the gradient descent method. The following cell combines the forward and backward passes with the gradient update step and performs a training step for our classifier:\n",
        "\n",
        "<div class=\"alert alert-success\">\n",
        "    <h3>Task: Check Code</h3>\n",
        "    <p>Note that the <code>Classifier</code> class is derived from the more general <code>Network</code> class. It is worth having a look at the basis class <code>Network</code> in the file <code>exercise_code/networks/base_networks.py</code>. We will make use of the <code>__call__()</code> method, which computes the forward and backward pass of your classifier. In a similar manner, we use the <code>__call__()</code> function for our Loss function.</p>\n",
        "</div>\n",
        "\n",
        "The following cell performs training with 400 training steps:"
      ]
    },
    {
      "cell_type": "code",
      "execution_count": 9,
      "metadata": {
        "id": "sbFMMEtSNfkM",
        "colab": {
          "base_uri": "https://localhost:8080/"
        },
        "outputId": "91556249-27ad-462e-c7dc-2ece83e71c41"
      },
      "outputs": [
        {
          "output_type": "stream",
          "name": "stdout",
          "text": [
            "Epoch  0 --- Average Loss:  0.6931652635969844\n",
            "Epoch  10 --- Average Loss:  0.6857725711377536\n",
            "Epoch  20 --- Average Loss:  0.6786577469516625\n",
            "Epoch  30 --- Average Loss:  0.6717521443974419\n",
            "Epoch  40 --- Average Loss:  0.6650457295341603\n",
            "Epoch  50 --- Average Loss:  0.6585320073401107\n",
            "Epoch  60 --- Average Loss:  0.6522047782626407\n",
            "Epoch  70 --- Average Loss:  0.6460579616034299\n",
            "Epoch  80 --- Average Loss:  0.6400855981737094\n",
            "Epoch  90 --- Average Loss:  0.6342818614095946\n",
            "Epoch  100 --- Average Loss:  0.6286410669803585\n",
            "Epoch  110 --- Average Loss:  0.6231576804336173\n",
            "Epoch  120 --- Average Loss:  0.6178263229923557\n",
            "Epoch  130 --- Average Loss:  0.6126417756642943\n",
            "Epoch  140 --- Average Loss:  0.6075989818348114\n",
            "Epoch  150 --- Average Loss:  0.6026930485176744\n",
            "Epoch  160 --- Average Loss:  0.5979192464352865\n",
            "Epoch  170 --- Average Loss:  0.5932730090931985\n",
            "Epoch  180 --- Average Loss:  0.5887499310034913\n",
            "Epoch  190 --- Average Loss:  0.5843457651994394\n",
            "Epoch  200 --- Average Loss:  0.5800564201705166\n",
            "Epoch  210 --- Average Loss:  0.5758779563330847\n",
            "Epoch  220 --- Average Loss:  0.5718065821385345\n",
            "Epoch  230 --- Average Loss:  0.5678386499076642\n",
            "Epoch  240 --- Average Loss:  0.5639706514679145\n",
            "Epoch  250 --- Average Loss:  0.56019921365893\n",
            "Epoch  260 --- Average Loss:  0.5565210937618109\n",
            "Epoch  270 --- Average Loss:  0.5529331748984317\n",
            "Epoch  280 --- Average Loss:  0.5494324614392471\n",
            "Epoch  290 --- Average Loss:  0.546016074451073\n",
            "Epoch  300 --- Average Loss:  0.5426812472103044\n",
            "Epoch  310 --- Average Loss:  0.5394253208018692\n",
            "Epoch  320 --- Average Loss:  0.5362457398197933\n",
            "Epoch  330 --- Average Loss:  0.53314004818151\n",
            "Epoch  340 --- Average Loss:  0.5301058850648911\n",
            "Epoch  350 --- Average Loss:  0.5271409809743286\n",
            "Epoch  360 --- Average Loss:  0.5242431539400014\n",
            "Epoch  370 --- Average Loss:  0.5214103058526423\n",
            "Epoch  380 --- Average Loss:  0.518640418934629\n",
            "Epoch  390 --- Average Loss:  0.5159315523470113\n"
          ]
        }
      ],
      "source": [
        "from exercise_code.networks.optimizer import *\n",
        "from exercise_code.networks.classifier import *\n",
        "# Hyperparameter Setting, we will specify the loss function we use, and implement the optimizer we finished in the last step.\n",
        "num_features = 1\n",
        "\n",
        "# initialization\n",
        "model = Classifier(num_features=num_features)\n",
        "model.initialize_weights()\n",
        "\n",
        "loss_func = BCE() \n",
        "learning_rate = 5e-1\n",
        "loss_history = []\n",
        "opt = Optimizer(model,learning_rate)\n",
        "\n",
        "steps = 400\n",
        "# Full batch Gradient Descent\n",
        "for i in range(steps):\n",
        "    \n",
        "    # Enable your model to store the gradient.\n",
        "    model.train()\n",
        "    \n",
        "    # Compute the output and gradients w.r.t weights of your model for the input dataset.\n",
        "    model_forward, model_backward = model(X_train)\n",
        "    \n",
        "    # Compute the loss and gradients w.r.t output of the model.\n",
        "    loss, loss_grad = loss_func(model_forward, y_train)\n",
        "    \n",
        "    # Use back prop method to get the gradients of loss w.r.t the weights.\n",
        "    grad = loss_grad * model_backward\n",
        "    \n",
        "    # Compute the average gradient over your batch\n",
        "    grad = np.mean(grad, 0, keepdims = True)\n",
        "\n",
        "    # After obtaining the gradients of loss with respect to the weights, we can use optimizer to\n",
        "    # do gradient descent step.\n",
        "    # Take transpose to have the same shape ([D+1,1]) as weights.\n",
        "    opt.step(grad.T)\n",
        "    \n",
        "    # Average over the loss of the entire dataset and store it.\n",
        "    average_loss = np.mean(loss)\n",
        "    loss_history.append(average_loss)\n",
        "    if i%10 == 0:\n",
        "        print(\"Epoch \",i,\"--- Average Loss: \", average_loss)\n"
      ]
    },
    {
      "cell_type": "markdown",
      "metadata": {
        "id": "af-ngE-3NfkN"
      },
      "source": [
        "We can see that our average loss is decreasing as expected. Let us visualize the average loss and the prediction after our short training:"
      ]
    },
    {
      "cell_type": "code",
      "execution_count": 10,
      "metadata": {
        "pycharm": {
          "name": "#%%\n"
        },
        "id": "qNwX3xLnNfkN",
        "colab": {
          "base_uri": "https://localhost:8080/",
          "height": 559
        },
        "outputId": "4ad19b04-4c6b-47ac-fad7-bdc1b1c1be0d"
      },
      "outputs": [
        {
          "output_type": "display_data",
          "data": {
            "text/plain": [
              "<Figure size 432x288 with 1 Axes>"
            ],
            "image/png": "[encoded data removed]"
          },
          "metadata": {
            "needs_background": "light"
          }
        },
        {
          "output_type": "display_data",
          "data": {
            "text/plain": [
              "<Figure size 432x288 with 1 Axes>"
            ],
            "image/png": "[encoded data removed]"
          },
          "metadata": {
            "needs_background": "light"
          }
        }
      ],
      "source": [
        "# Plot the loss history to see how it goes after several steps of gradient descent.\n",
        "plt.plot(loss_history, label = 'Train Loss')\n",
        "plt.xlabel('iteration')\n",
        "plt.ylabel('training loss')\n",
        "plt.title('Training Loss history')\n",
        "plt.legend()\n",
        "plt.show()\n",
        "\n",
        "\n",
        "# forward pass\n",
        "y_out, _ = model(X_train)\n",
        "\n",
        "\n",
        "# plot the prediction\n",
        "plt.scatter(X_train, y_train, label = 'Ground Truth')\n",
        "inds = X_train.argsort(0).flatten()\n",
        "plt.plot(X_train[inds], y_out[inds], color='r', label = 'Prediction')\n",
        "plt.title('Prediction of our trained model')\n",
        "plt.legend()\n",
        "plt.show()"
      ]
    },
    {
      "cell_type": "markdown",
      "metadata": {
        "id": "65mHDizmNfkO"
      },
      "source": [
        "This looks pretty good already and our model gets better in explaining the underlying relationship of data."
      ]
    },
    {
      "cell_type": "markdown",
      "metadata": {
        "id": "Flwh5PJdNfkO"
      },
      "source": [
        "## 6. Solver\n",
        "\n",
        "Now we want to put everything we have learned so far together in an organized and concise way, that provides easy access to train a network/model in your own script/code. The purpose of a solver is mainly to provide an abstraction for all the gritty details behind training your parameters, such as logging your progress, optimizing your model, and handling your data.\n",
        "\n",
        "This part of the exercise will require you to complete the missing code in the ```Solver``` class and to train your model end to end.\n"
      ]
    },
    {
      "cell_type": "markdown",
      "metadata": {
        "pycharm": {
          "name": "#%% md\n"
        },
        "id": "U5xus8AkNfkO"
      },
      "source": [
        "<div class=\"alert alert-info\">\n",
        "    <h3>Task: Implement</h3>\n",
        "    <p>Open the file <code>exercise_code/solver.py</code> and have a look at the <code>Solver</code> class. The <code>_step()</code> function is representing one single training step. So when using the Gradient Descent method, it represents one single update step using the Gradient Descent method. Your task is now to finalize this <code>_step()</code> function. You can test your implementation with the testing code included in the following cell.</p>\n",
        "    <p> <b>Hint</b>: The implementation of the <code>_step()</code> function is very similar to the implementation of a training step as we observed above. You may have a look at that part first. </p>\n",
        "</div>"
      ]
    },
    {
      "cell_type": "code",
      "execution_count": 11,
      "metadata": {
        "pycharm": {
          "name": "#%%\n"
        },
        "id": "_fzJaGjDNfkO",
        "colab": {
          "base_uri": "https://localhost:8080/"
        },
        "outputId": "59aa4627-ff56-445d-a0fd-d58bfaf4c812"
      },
      "outputs": [
        {
          "output_type": "stream",
          "name": "stdout",
          "text": [
            "SolverStepTest passed.\n",
            "Congratulations you have passed all the unit tests!!! Tests passed: 1/1\n",
            "Score: 100/100\n"
          ]
        },
        {
          "output_type": "execute_result",
          "data": {
            "text/plain": [
              "100"
            ]
          },
          "metadata": {},
          "execution_count": 11
        }
      ],
      "source": [
        "from exercise_code.solver import Solver\n",
        "from exercise_code.networks.classifier import Classifier\n",
        "from exercise_code.tests.solver_tests import *\n",
        "weights = np.array([[0.1],[0.1]])\n",
        "TestClassifier = Classifier(num_features=1)\n",
        "TestClassifier.initialize_weights(weights)\n",
        "learning_rate = 5e-1\n",
        "data = {'X_train': X_train, 'y_train': y_train,\n",
        "        'X_val': X_val, 'y_val': y_val}\n",
        "loss = BCE()\n",
        "solver = Solver(TestClassifier,data,loss,learning_rate,verbose=True)\n",
        "\n",
        "test_solver(solver)"
      ]
    },
    {
      "cell_type": "markdown",
      "metadata": {
        "id": "Voql8jg6NfkO"
      },
      "source": [
        "After having successfully implemented the `step()` function in the `Optimizer` class, let us now train our classifier. We train our model with a learning rate $ \\lambda = 0.1$ and with 25000 epochs. Your model should reach an accuracy which is higher than 85%. "
      ]
    },
    {
      "cell_type": "code",
      "execution_count": 12,
      "metadata": {
        "pycharm": {
          "name": "#%%\n"
        },
        "id": "IJ2GWhqHNfkP",
        "colab": {
          "base_uri": "https://localhost:8080/",
          "height": 747
        },
        "outputId": "40242909-4af6-42a3-b492-f3c18c881eda"
      },
      "outputs": [
        {
          "output_type": "stream",
          "name": "stdout",
          "text": [
            "Accuracy BEFORE training 41.8%\n"
          ]
        },
        {
          "output_type": "display_data",
          "data": {
            "text/plain": [
              "<Figure size 432x288 with 1 Axes>"
            ],
            "image/png": "[encoded data removed]"
          },
          "metadata": {
            "needs_background": "light"
          }
        },
        {
          "output_type": "stream",
          "name": "stdout",
          "text": [
            "(Epoch 0 / 25000) train loss: 0.693046; val_loss: 0.692888\n",
            "(Epoch 1000 / 25000) train loss: 0.580044; val_loss: 0.580280\n",
            "(Epoch 2000 / 25000) train loss: 0.513299; val_loss: 0.516030\n",
            "(Epoch 3000 / 25000) train loss: 0.470396; val_loss: 0.475012\n",
            "(Epoch 4000 / 25000) train loss: 0.440859; val_loss: 0.446908\n",
            "(Epoch 5000 / 25000) train loss: 0.419451; val_loss: 0.426635\n",
            "(Epoch 6000 / 25000) train loss: 0.403316; val_loss: 0.411437\n",
            "(Epoch 7000 / 25000) train loss: 0.390781; val_loss: 0.399701\n",
            "(Epoch 8000 / 25000) train loss: 0.380806; val_loss: 0.390423\n",
            "(Epoch 9000 / 25000) train loss: 0.372711; val_loss: 0.382949\n",
            "(Epoch 10000 / 25000) train loss: 0.366036; val_loss: 0.376833\n",
            "(Epoch 11000 / 25000) train loss: 0.360456; val_loss: 0.371764\n",
            "(Epoch 12000 / 25000) train loss: 0.355739; val_loss: 0.367516\n",
            "(Epoch 13000 / 25000) train loss: 0.351712; val_loss: 0.363923\n",
            "(Epoch 14000 / 25000) train loss: 0.348244; val_loss: 0.360859\n",
            "(Epoch 15000 / 25000) train loss: 0.345235; val_loss: 0.358229\n",
            "(Epoch 16000 / 25000) train loss: 0.342607; val_loss: 0.355957\n",
            "(Epoch 17000 / 25000) train loss: 0.340299; val_loss: 0.353983\n",
            "(Epoch 18000 / 25000) train loss: 0.338261; val_loss: 0.352262\n",
            "(Epoch 19000 / 25000) train loss: 0.336453; val_loss: 0.350753\n",
            "(Epoch 20000 / 25000) train loss: 0.334842; val_loss: 0.349427\n",
            "(Epoch 21000 / 25000) train loss: 0.333401; val_loss: 0.348256\n",
            "(Epoch 22000 / 25000) train loss: 0.332108; val_loss: 0.347221\n",
            "(Epoch 23000 / 25000) train loss: 0.330944; val_loss: 0.346302\n",
            "(Epoch 24000 / 25000) train loss: 0.329893; val_loss: 0.345486\n",
            "Accuracy AFTER training 91.5%\n"
          ]
        }
      ],
      "source": [
        "from exercise_code.solver import Solver\n",
        "from exercise_code.networks.utils import test_accuracy\n",
        "from exercise_code.networks.classifier import Classifier\n",
        "# Select the number of features, you want your task to train on.\n",
        "# Feel free to play with the sizes.\n",
        "num_features = 1\n",
        "\n",
        "# initialize model and weights\n",
        "model = Classifier(num_features=num_features)\n",
        "model.initialize_weights()\n",
        "\n",
        "y_out, _ = model(X_test)\n",
        "\n",
        "accuracy = test_accuracy(y_out, y_test)\n",
        "print(\"Accuracy BEFORE training {:.1f}%\".format(accuracy*100))\n",
        "\n",
        "\n",
        "if np.shape(X_test)[1]==1:\n",
        "    plt.scatter(X_test, y_test, label = \"Ground Truth\")\n",
        "    inds = X_test.flatten().argsort(0)\n",
        "    plt.plot(X_test[inds], y_out[inds], color='r', label = \"Prediction\")\n",
        "    plt.legend()\n",
        "    plt.show()\n",
        "\n",
        "data = {'X_train': X_train, 'y_train': y_train,\n",
        "        'X_val': X_val, 'y_val': y_val}\n",
        "\n",
        "#We use the BCE loss\n",
        "loss = BCE()\n",
        "\n",
        "# Please use these hyperparmeter as we also use them later in the evaluation\n",
        "learning_rate = 1e-1\n",
        "epochs = 25000\n",
        "\n",
        "# Setup for the actual solver that's going to do the job of training\n",
        "# the model on the given data. set 'verbose=True' to see real time \n",
        "# progress of the training.\n",
        "solver = Solver(model, \n",
        "                data, \n",
        "                loss,\n",
        "                learning_rate, \n",
        "                verbose=True, \n",
        "                print_every = 1000)\n",
        "# Train the model, and look at the results.\n",
        "solver.train(epochs)\n",
        "\n",
        "\n",
        "# Test final performance\n",
        "y_out, _ = model(X_test)\n",
        "\n",
        "accuracy = test_accuracy(y_out, y_test)\n",
        "print(\"Accuracy AFTER training {:.1f}%\".format(accuracy*100))"
      ]
    },
    {
      "cell_type": "markdown",
      "metadata": {
        "pycharm": {
          "name": "#%% md\n"
        },
        "id": "ZPxWNu_RNfkP"
      },
      "source": [
        "During the training process losses in each epoch are stored in the lists `solver.train_loss_history` and `solver.val_loss_history`. We can use them to plot the training result easily."
      ]
    },
    {
      "cell_type": "code",
      "execution_count": 13,
      "metadata": {
        "pycharm": {
          "name": "#%%\n"
        },
        "id": "XUDmELyiNfkP",
        "colab": {
          "base_uri": "https://localhost:8080/",
          "height": 559
        },
        "outputId": "be1111ac-e8df-4df3-8a87-e41477388aa7"
      },
      "outputs": [
        {
          "output_type": "display_data",
          "data": {
            "text/plain": [
              "<Figure size 432x288 with 1 Axes>"
            ],
            "image/png": "[encoded data removed]"
          },
          "metadata": {
            "needs_background": "light"
          }
        },
        {
          "output_type": "display_data",
          "data": {
            "text/plain": [
              "<Figure size 432x288 with 1 Axes>"
            ],
            "image/png": "[encoded data removed]"
          },
          "metadata": {
            "needs_background": "light"
          }
        }
      ],
      "source": [
        "plt.plot(solver.val_loss_history, label = \"Validation Loss\")\n",
        "plt.plot(solver.train_loss_history, label = \"Train Loss\")\n",
        "plt.xlabel(\"Epoch\")\n",
        "plt.ylabel(\"Loss\")\n",
        "plt.legend() \n",
        "plt.title('Training and Validation Loss')\n",
        "plt.show() \n",
        "\n",
        "\n",
        "if np.shape(X_test)[1]==1:\n",
        "\n",
        "    plt.scatter(X_test, y_test, label = \"Ground Truth\")\n",
        "    inds = X_test.argsort(0).flatten()\n",
        "    plt.plot(X_test[inds], y_out[inds], color='r', label = \"Prediction\")\n",
        "    plt.legend()\n",
        "    plt.title('Prediction of your trained model')\n",
        "    plt.show()"
      ]
    },
    {
      "cell_type": "markdown",
      "metadata": {
        "pycharm": {
          "name": "#%% md\n"
        },
        "id": "uE4dRQB9NfkP"
      },
      "source": [
        "## 7. Save your BCE Loss, Classifier and Solver for Submission\n",
        "\n",
        "Your model should be trained now and able to predict whether a house is expensive or not. Hooooooray, you trained your very first model! The model will be saved as a pickle file to `models/simple_classifier.p`."
      ]
    },
    {
      "cell_type": "code",
      "execution_count": 14,
      "metadata": {
        "pycharm": {
          "name": "#%%\n"
        },
        "id": "UjszeJEjNfkP"
      },
      "outputs": [],
      "source": [
        "from exercise_code.tests import save_pickle\n",
        "\n",
        "save_pickle(\n",
        "    data_dict={\n",
        "        \"BCE_class\": BCE,\n",
        "        \"Classifier_class\": Classifier,\n",
        "        \"Optimizer\": Optimizer,\n",
        "        \"Solver_class\": Solver\n",
        "    },\n",
        "    file_name=\"simple_classifier.p\"\n",
        ")"
      ]
    },
    {
      "cell_type": "code",
      "execution_count": 15,
      "metadata": {
        "id": "mGo-fKa-NfkQ",
        "colab": {
          "base_uri": "https://localhost:8080/"
        },
        "outputId": "c0cc1ac6-7cf1-4054-f944-b250e5085f7a"
      },
      "outputs": [
        {
          "output_type": "stream",
          "name": "stdout",
          "text": [
            "relevant folders: ['exercise_code', 'models']\n",
            "notebooks files: ['housing_data_preprocessing(optional).ipynb', '1_simple_classifier.ipynb']\n",
            "Adding folder exercise_code\n",
            "Adding folder models\n",
            "Adding notebook housing_data_preprocessing(optional).ipynb\n",
            "Adding notebook 1_simple_classifier.ipynb\n",
            "Zipping successful! Zip is stored under: /content/drive/MyDrive/Colab Notebooks/4/exercise04.zip\n"
          ]
        }
      ],
      "source": [
        "from exercise_code.submit import submit_exercise\n",
        "\n",
        "submit_exercise('exercise04')"
      ]
    },
    {
      "cell_type": "markdown",
      "metadata": {
        "pycharm": {
          "name": "#%% md\n"
        },
        "id": "PSWBdtCoNfkQ"
      },
      "source": [
        "# Submission Goals\n",
        "\n",
        "For this exercise we only test your implementations which are tested throughout the notebook.  In total we have 10 test cases where you are required to complete 8 of. Here is an overview split among the notebook:\n",
        "\n",
        "- Goal: \n",
        "    - To implement: \n",
        "        1. `exercise_code/networks/loss.py`: `forward()`, `backward()`\n",
        "        2. `exercise_code/networks/classifier.py`: `forward()`, `backward()`, `sigmoid()`\n",
        "        3. `exercise_code/networks/optimizer.py`: `step()`\n",
        "        4. `exercise_code/solver.py`: `_step()`\n",
        "\n",
        "    - Test cases:\n",
        "      1. Does `forward()` of `BCE` return the correct value?\n",
        "      2. Does `backward()` of `BCE` return the correct value?\n",
        "      3. Does `sigmoid()` of `Classifier` return the correct value when `x=0`?\n",
        "      4. Does `sigmoid()` of `Classifier` return the correct value when `x=np.array([0,0,0,0,0])`?\n",
        "      5. Does `sigmoid()` of `Classifier` return the correct value when `x=100`?\n",
        "      6. Does `sigmoid()` of `Classifier` return the correct value when `x=np.asarray([100, 100, 100, 100, 100])`?\n",
        "      7. Does `forward()` of `Classifier` return the correct value?\n",
        "      8. Does `backward()` of `Classifier` return the correct value?\n",
        "      9. Does `Optimizer` update the model parameter correctly?\n",
        "      10. Does `Solver` update the model parameter correctly?\n"
      ]
    }
  ],
  "metadata": {
    "kernelspec": {
      "display_name": "Python 3",
      "language": "python",
      "name": "python3"
    },
    "language_info": {
      "codemirror_mode": {
        "name": "ipython",
        "version": 3
      },
      "file_extension": ".py",
      "mimetype": "text/x-python",
      "name": "python",
      "nbconvert_exporter": "python",
      "pygments_lexer": "ipython3",
      "version": "3.7.5"
    },
    "colab": {
      "name": "1_simple_classifier.ipynb",
      "provenance": [],
      "collapsed_sections": []
    }
  },
  "nbformat": 4,
  "nbformat_minor": 0
}