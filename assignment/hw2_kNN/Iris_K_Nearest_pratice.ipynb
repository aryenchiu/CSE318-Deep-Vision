{
  "nbformat": 4,
  "nbformat_minor": 0,
  "metadata": {
    "colab": {
      "name": "Iris_K-Nearest_pratice.ipynb",
      "provenance": [],
      "collapsed_sections": []
    },
    "kernelspec": {
      "name": "python3",
      "display_name": "Python 3"
    },
    "language_info": {
      "name": "python"
    }
  },
  "cells": [
    {
      "cell_type": "code",
      "execution_count": 68,
      "metadata": {
        "id": "2Zhk3etuIgy1"
      },
      "outputs": [],
      "source": [
        "import pandas as pd\n",
        "from random import randrange\n",
        "import matplotlib.pyplot as plt\n",
        "import numpy as np\n",
        "from sklearn import datasets\n",
        "from matplotlib.colors import ListedColormap"
      ]
    },
    {
      "cell_type": "code",
      "source": [
        "iris = datasets.load_iris()"
      ],
      "metadata": {
        "id": "OpfAau7yI5eC"
      },
      "execution_count": 69,
      "outputs": []
    },
    {
      "cell_type": "code",
      "source": [
        "iris_data = pd.DataFrame({\n",
        "    'Sepal length':iris.data[:,0],\n",
        "    'Sepal width':iris.data[:,1],\n",
        "    'Petal length':iris.data[:,2],\n",
        "    'Petal width':iris.data[:,3],\n",
        "    'class':iris.target\n",
        "})"
      ],
      "metadata": {
        "id": "AiMNll1_I-tK"
      },
      "execution_count": 70,
      "outputs": []
    },
    {
      "cell_type": "code",
      "source": [
        "print(iris_data)\n",
        "# iris dataset link: https://github.com/dotnet/machinelearning/blob/main/test/data/iris.txt\n",
        "# class 0 = Iris-setosa\n",
        "# class 1 = Iris-versicolor\n",
        "# calss 2 = Iris-virginica"
      ],
      "metadata": {
        "id": "me1qJVT1Jbc1",
        "colab": {
          "base_uri": "https://localhost:8080/"
        },
        "outputId": "c8de8ba4-e978-43ad-b60e-3ab27359961f"
      },
      "execution_count": 71,
      "outputs": [
        {
          "output_type": "stream",
          "name": "stdout",
          "text": [
            "     Sepal length  Sepal width  Petal length  Petal width  class\n",
            "0             5.1          3.5           1.4          0.2      0\n",
            "1             4.9          3.0           1.4          0.2      0\n",
            "2             4.7          3.2           1.3          0.2      0\n",
            "3             4.6          3.1           1.5          0.2      0\n",
            "4             5.0          3.6           1.4          0.2      0\n",
            "..            ...          ...           ...          ...    ...\n",
            "145           6.7          3.0           5.2          2.3      2\n",
            "146           6.3          2.5           5.0          1.9      2\n",
            "147           6.5          3.0           5.2          2.0      2\n",
            "148           6.2          3.4           5.4          2.3      2\n",
            "149           5.9          3.0           5.1          1.8      2\n",
            "\n",
            "[150 rows x 5 columns]\n"
          ]
        }
      ]
    },
    {
      "cell_type": "code",
      "source": [
        "# hyperparameter\n",
        "config = {\n",
        "    'test_ratio': 0.2,\n",
        "    'n_folds': 4,\n",
        "    'n_neighbors': 70\n",
        "}"
      ],
      "metadata": {
        "id": "S6PQAbA8vI98"
      },
      "execution_count": 72,
      "outputs": []
    },
    {
      "cell_type": "code",
      "source": [
        "def train_test_split(dataset, config):\n",
        "    train = list(dataset)\n",
        "    test = list()\n",
        "    test_size = len(dataset) * config['test_ratio']\n",
        "    while len(test) < test_size:\n",
        "        index = randrange(len(train))\n",
        "        test.append(train.pop(index))\n",
        "    return train, test"
      ],
      "metadata": {
        "id": "FoH7SZqvObrh"
      },
      "execution_count": 73,
      "outputs": []
    },
    {
      "cell_type": "code",
      "source": [
        "def cross_validation_split(train, config):\n",
        "    folds = list()\n",
        "    train_copy = list(train)\n",
        "    fold_size = len(train) / config['n_folds']\n",
        "    for _ in range(config['n_folds']):\n",
        "        fold = list()\n",
        "        while len(fold) < fold_size:\n",
        "            index = randrange(len(train_copy))\n",
        "            fold.append(train_copy.pop(index))\n",
        "        folds.append(fold)\n",
        "    return folds"
      ],
      "metadata": {
        "id": "SM2XjU_CKCGa"
      },
      "execution_count": 74,
      "outputs": []
    },
    {
      "cell_type": "code",
      "source": [
        "def k_fold_cross_validation(train, folds, config):\n",
        "    means = list()\n",
        "    for k in range(1, config['n_neighbors']+1):\n",
        "        scores = list()\n",
        "        for fold in folds:\n",
        "            new_train = list(folds)\n",
        "            new_train.remove(fold)\n",
        "            new_train = sum(new_train, [])    # Flattening a List of Lists\n",
        "            validation = list(fold)\n",
        "            predictions = kNN(new_train, validation, k)\n",
        "            labels = [row[-1] for row in fold]\n",
        "            accuracy = accuracy_calculation(predictions, labels)\n",
        "            scores.append(accuracy)\n",
        "        mean = sum(scores) / float(config['n_folds'])\n",
        "        means.append((mean, k))               # mean accuracy per k\n",
        "    best_k = max(means)[1]\n",
        "    return best_k, means"
      ],
      "metadata": {
        "id": "6dstceSrhKuK"
      },
      "execution_count": 75,
      "outputs": []
    },
    {
      "cell_type": "code",
      "source": [
        "def accuracy_calculation(predictions, labels):\n",
        "    count = 0\n",
        "    for i in range(len(labels)):\n",
        "        if predictions[i] == labels[i]:\n",
        "            count += 1\n",
        "    return count / float(len(labels))"
      ],
      "metadata": {
        "id": "H1Ryjce5prDr"
      },
      "execution_count": 76,
      "outputs": []
    },
    {
      "cell_type": "code",
      "source": [
        "def euclidean_distance(row1, row2):\n",
        "    distance = 0.0\n",
        "    for i in range(len(row1)-1): # -1 for label\n",
        "        distance += (row1[i] - row2[i]) ** 2\n",
        "    return distance ** 0.5"
      ],
      "metadata": {
        "id": "sHJ6UXkybL6t"
      },
      "execution_count": 77,
      "outputs": []
    },
    {
      "cell_type": "code",
      "source": [
        "def kNN(train, test, k):\n",
        "    predictions = list()\n",
        "    for row in test:\n",
        "        neighbors = get_neighbors(train, row, k)\n",
        "        prediction = max(set(neighbors), key = neighbors.count)\n",
        "        predictions.append(prediction)\n",
        "    return predictions"
      ],
      "metadata": {
        "id": "HVmq1wp-ZPXJ"
      },
      "execution_count": 78,
      "outputs": []
    },
    {
      "cell_type": "code",
      "source": [
        "def get_neighbors(train, test_row, k):\n",
        "    dists = list()\n",
        "    for row in train:\n",
        "        dist = euclidean_distance(row, test_row)\n",
        "        dists.append((row[-1], dist))  # row[-1] : label\n",
        "    dists.sort(key = lambda tup: tup[1])\n",
        "    neighbors = list()\n",
        "    for i in range(k):\n",
        "        neighbors.append(dists[i][0])\n",
        "    return neighbors"
      ],
      "metadata": {
        "id": "vXXRpbMCZKWn"
      },
      "execution_count": 79,
      "outputs": []
    },
    {
      "cell_type": "code",
      "source": [
        "# test\n",
        "def train_test_evaluation(train, test, k):\n",
        "    predictions = kNN(train, test, k)\n",
        "    ground_truth = [row[-1] for row in test]\n",
        "    accuracy = accuracy_calculation(predictions, ground_truth)\n",
        "    print(\"Accuracy: %.3f%%\" % (accuracy * 100))"
      ],
      "metadata": {
        "id": "luDeufi7xTD8"
      },
      "execution_count": 80,
      "outputs": []
    },
    {
      "cell_type": "markdown",
      "source": [
        "# Features Selection "
      ],
      "metadata": {
        "id": "1pop5bbsJPw8"
      }
    },
    {
      "cell_type": "code",
      "source": [
        "# choose 2 arguments of Iris\n",
        "arg1 = input(\"Please enter 1st argument of Iris: \")\n",
        "arg2 = input(\"Please enter 2nd argument of Iris: \")"
      ],
      "metadata": {
        "colab": {
          "base_uri": "https://localhost:8080/"
        },
        "id": "w52HjWP9CZRy",
        "outputId": "71bb5df8-0362-42f3-bcce-e5d2dde8f081"
      },
      "execution_count": 81,
      "outputs": [
        {
          "name": "stdout",
          "output_type": "stream",
          "text": [
            "Please enter 1st argument of Iris: Petal length\n",
            "Please enter 2nd argument of Iris: Petal width\n"
          ]
        }
      ]
    },
    {
      "cell_type": "code",
      "source": [
        "# fig = plt.figure(figsize=(5,5))\n",
        "plt.xlabel(arg1)\n",
        "plt.ylabel(arg2)\n",
        "plt.title(\"Dataset Distribution\")\n",
        "plt.scatter(iris_data[arg1],iris_data[arg2],c=iris.target)"
      ],
      "metadata": {
        "id": "1JQyn8gvLmBU",
        "colab": {
          "base_uri": "https://localhost:8080/",
          "height": 312
        },
        "outputId": "99fb7f8a-3c92-49f2-df01-7672d403ff88"
      },
      "execution_count": 82,
      "outputs": [
        {
          "output_type": "execute_result",
          "data": {
            "text/plain": [
              "<matplotlib.collections.PathCollection at 0x7f6421c4a190>"
            ]
          },
          "metadata": {},
          "execution_count": 82
        },
        {
          "output_type": "display_data",
          "data": {
            "image/png": "[encoded data removed]",
            "text/plain": [
              "<Figure size 432x288 with 1 Axes>"
            ]
          },
          "metadata": {
            "needs_background": "light"
          }
        }
      ]
    },
    {
      "cell_type": "markdown",
      "source": [
        "# Dataset Split"
      ],
      "metadata": {
        "id": "2-XzgDWvIo4C"
      }
    },
    {
      "cell_type": "code",
      "source": [
        "# iris_data[arg1] = (iris_data[arg1] - iris_data[arg1].mean()) / (iris_data[arg1].max() - iris_data[arg1].min())\n",
        "# iris_data[arg2] = (iris_data[arg2] - iris_data[arg2].mean()) / (iris_data[arg2].max() - iris_data[arg2].min())\n",
        "dataset = iris_data[[arg1, arg2, 'class']].values.tolist()\n",
        "train, test = train_test_split(dataset, config)\n",
        "folds = cross_validation_split(train, config)\n",
        "# test data distribution plot\n",
        "t_x = [i[0] for i in test]\n",
        "t_y = [i[1] for i in test]\n",
        "t_label = [i[2] for i in test]\n",
        "plt.title(\"Test Data Distribution\")\n",
        "plt.xlabel(arg1)\n",
        "plt.ylabel(arg2)\n",
        "plt.scatter(t_x,t_y,c=t_label)"
      ],
      "metadata": {
        "id": "X9FFegDh43Xe",
        "colab": {
          "base_uri": "https://localhost:8080/",
          "height": 312
        },
        "outputId": "2b6f0305-1c04-47d4-ed35-7c4d3b4beade"
      },
      "execution_count": 83,
      "outputs": [
        {
          "output_type": "execute_result",
          "data": {
            "text/plain": [
              "<matplotlib.collections.PathCollection at 0x7f6421c0c210>"
            ]
          },
          "metadata": {},
          "execution_count": 83
        },
        {
          "output_type": "display_data",
          "data": {
            "image/png": "[encoded data removed]",
            "text/plain": [
              "<Figure size 432x288 with 1 Axes>"
            ]
          },
          "metadata": {
            "needs_background": "light"
          }
        }
      ]
    },
    {
      "cell_type": "markdown",
      "source": [
        "## K-Fold Cross Validation"
      ],
      "metadata": {
        "id": "hVLZQOFQI1lo"
      }
    },
    {
      "cell_type": "code",
      "source": [
        "k, means = k_fold_cross_validation(train, folds, config)\n",
        "acc = [i[0] for i in means]\n",
        "print(\"k of highest validation accuracy: %d\\nhighest validation accuracy: %.3f %%\\n\" %(k, max(acc) * 100))\n",
        "for i in range(len(means)):\n",
        "    print(\"k = %2d, accuracy: %.2f %%\" %(i+1, acc[i] * 100))"
      ],
      "metadata": {
        "colab": {
          "base_uri": "https://localhost:8080/"
        },
        "id": "UsuSr7-OH2dz",
        "outputId": "60edf8d2-51d4-462a-ac09-ed13b47e7016"
      },
      "execution_count": 84,
      "outputs": [
        {
          "output_type": "stream",
          "name": "stdout",
          "text": [
            "k of highest validation accuracy: 8\n",
            "highest validation accuracy: 97.500 %\n",
            "\n",
            "k =  1, accuracy: 97.50 %\n",
            "k =  2, accuracy: 96.67 %\n",
            "k =  3, accuracy: 96.67 %\n",
            "k =  4, accuracy: 96.67 %\n",
            "k =  5, accuracy: 97.50 %\n",
            "k =  6, accuracy: 97.50 %\n",
            "k =  7, accuracy: 96.67 %\n",
            "k =  8, accuracy: 97.50 %\n",
            "k =  9, accuracy: 96.67 %\n",
            "k = 10, accuracy: 96.67 %\n",
            "k = 11, accuracy: 96.67 %\n",
            "k = 12, accuracy: 96.67 %\n",
            "k = 13, accuracy: 96.67 %\n",
            "k = 14, accuracy: 96.67 %\n",
            "k = 15, accuracy: 96.67 %\n",
            "k = 16, accuracy: 96.67 %\n",
            "k = 17, accuracy: 96.67 %\n",
            "k = 18, accuracy: 96.67 %\n",
            "k = 19, accuracy: 96.67 %\n",
            "k = 20, accuracy: 96.67 %\n",
            "k = 21, accuracy: 96.67 %\n",
            "k = 22, accuracy: 96.67 %\n",
            "k = 23, accuracy: 96.67 %\n",
            "k = 24, accuracy: 95.83 %\n",
            "k = 25, accuracy: 96.67 %\n",
            "k = 26, accuracy: 95.00 %\n",
            "k = 27, accuracy: 96.67 %\n",
            "k = 28, accuracy: 95.00 %\n",
            "k = 29, accuracy: 95.00 %\n",
            "k = 30, accuracy: 94.17 %\n",
            "k = 31, accuracy: 95.83 %\n",
            "k = 32, accuracy: 95.83 %\n",
            "k = 33, accuracy: 95.83 %\n",
            "k = 34, accuracy: 95.00 %\n",
            "k = 35, accuracy: 95.00 %\n",
            "k = 36, accuracy: 95.83 %\n",
            "k = 37, accuracy: 95.00 %\n",
            "k = 38, accuracy: 93.33 %\n",
            "k = 39, accuracy: 94.17 %\n",
            "k = 40, accuracy: 93.33 %\n",
            "k = 41, accuracy: 93.33 %\n",
            "k = 42, accuracy: 93.33 %\n",
            "k = 43, accuracy: 93.33 %\n",
            "k = 44, accuracy: 92.50 %\n",
            "k = 45, accuracy: 93.33 %\n",
            "k = 46, accuracy: 83.33 %\n",
            "k = 47, accuracy: 83.33 %\n",
            "k = 48, accuracy: 83.33 %\n",
            "k = 49, accuracy: 83.33 %\n",
            "k = 50, accuracy: 83.33 %\n",
            "k = 51, accuracy: 83.33 %\n",
            "k = 52, accuracy: 83.33 %\n",
            "k = 53, accuracy: 84.17 %\n",
            "k = 54, accuracy: 77.50 %\n",
            "k = 55, accuracy: 75.83 %\n",
            "k = 56, accuracy: 77.50 %\n",
            "k = 57, accuracy: 63.33 %\n",
            "k = 58, accuracy: 53.33 %\n",
            "k = 59, accuracy: 53.33 %\n",
            "k = 60, accuracy: 48.33 %\n",
            "k = 61, accuracy: 48.33 %\n",
            "k = 62, accuracy: 48.33 %\n",
            "k = 63, accuracy: 48.33 %\n",
            "k = 64, accuracy: 45.83 %\n",
            "k = 65, accuracy: 45.83 %\n",
            "k = 66, accuracy: 45.83 %\n",
            "k = 67, accuracy: 45.83 %\n",
            "k = 68, accuracy: 45.83 %\n",
            "k = 69, accuracy: 45.83 %\n",
            "k = 70, accuracy: 40.00 %\n"
          ]
        }
      ]
    },
    {
      "cell_type": "code",
      "source": [
        "# show which k has highest validation accuracy\n",
        "plt.plot(range(1,config['n_neighbors']+1), acc, label = 'Accuracy')\n",
        "plt.xlabel('Number of Neighbors')\n",
        "plt.ylabel('Validation Accuracy')\n",
        "plt.title(\"k-fold Cross Validation (n_folds = %d)\" % (config['n_folds']))\n",
        "plt.show()"
      ],
      "metadata": {
        "colab": {
          "base_uri": "https://localhost:8080/",
          "height": 295
        },
        "id": "GPLYAD7IpR0f",
        "outputId": "637dd4ab-2d33-4fd5-8fc5-bb7d131ee3ab"
      },
      "execution_count": 85,
      "outputs": [
        {
          "output_type": "display_data",
          "data": {
            "image/png": "[encoded data removed]",
            "text/plain": [
              "<Figure size 432x288 with 1 Axes>"
            ]
          },
          "metadata": {
            "needs_background": "light"
          }
        }
      ]
    },
    {
      "cell_type": "markdown",
      "source": [
        "# Test dataset evaluation"
      ],
      "metadata": {
        "id": "e32JBkhOJAif"
      }
    },
    {
      "cell_type": "code",
      "source": [
        "train_test_evaluation(train, test, k)"
      ],
      "metadata": {
        "colab": {
          "base_uri": "https://localhost:8080/"
        },
        "id": "QroErBBFfzD4",
        "outputId": "a417badc-9522-4c2b-af42-f05b4d453e79"
      },
      "execution_count": 86,
      "outputs": [
        {
          "output_type": "stream",
          "name": "stdout",
          "text": [
            "Accuracy: 93.333%\n"
          ]
        }
      ]
    },
    {
      "cell_type": "code",
      "source": [
        "# kNN test data graph with decision boundaries\n",
        "\n",
        "# Create color maps\n",
        "cmap_light = ListedColormap(['#FFAAAA', '#AAFFAA', '#AAAAFF'])\n",
        "cmap_bold = ListedColormap(['#FF0000', '#00FF00', '#0000FF'])\n",
        "h = .02 # step size in the mesh\n",
        "test = np.array(test)\n",
        "y = [row[-1] for row in test]\n",
        "x_min, x_max = test[:, 0].min() - 1, test[:, 0].max() + 1\n",
        "y_min, y_max = test[:, 1].min() - 1, test[:, 1].max() + 1\n",
        "xx, yy = np.meshgrid(np.arange(x_min, x_max, h), np.arange(y_min, y_max, h))\n",
        "Z = kNN(train, np.c_[xx.ravel(), yy.ravel()].tolist(), k)\n",
        "# Put the result into a color plot\n",
        "Z = np.array(Z)\n",
        "Z = Z.reshape(xx.shape)\n",
        "plt.figure()\n",
        "plt.pcolormesh(xx, yy, Z, cmap=cmap_light)\n",
        "\n",
        "# Plot also the training points\n",
        "plt.scatter(test[:, 0], test[:, 1], c=y, cmap=cmap_bold)\n",
        "plt.xlabel(arg1)\n",
        "plt.ylabel(arg2)\n",
        "plt.xlim(xx.min(), xx.max())\n",
        "plt.ylim(yy.min(), yy.max())\n",
        "plt.title(\"Iris 3-Class classification (k = %d)\" % (k))\n",
        "plt.show()"
      ],
      "metadata": {
        "colab": {
          "base_uri": "https://localhost:8080/",
          "height": 295
        },
        "id": "uWphcInQumNs",
        "outputId": "156b700a-25d2-4b5c-c0e6-b3f49383be86"
      },
      "execution_count": 87,
      "outputs": [
        {
          "output_type": "display_data",
          "data": {
            "image/png": "[encoded data removed]",
            "text/plain": [
              "<Figure size 432x288 with 1 Axes>"
            ]
          },
          "metadata": {
            "needs_background": "light"
          }
        }
      ]
    }
  ]
}