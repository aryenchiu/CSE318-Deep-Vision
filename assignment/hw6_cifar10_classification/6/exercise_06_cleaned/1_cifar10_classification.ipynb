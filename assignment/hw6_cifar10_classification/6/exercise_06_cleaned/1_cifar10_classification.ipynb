{
  "cells": [
    {
      "cell_type": "markdown",
      "metadata": {
        "id": "pQ9OmiNTIfce"
      },
      "source": [
        "# Cifar10 Classification"
      ]
    },
    {
      "cell_type": "markdown",
      "metadata": {
        "id": "NP3KqUBZIfch"
      },
      "source": [
        "Until now, we have implemented several pieces of a deep learning pipeline and even trained a two-layer neural network, but all the hyperparameters were already set to some values yielding resonable results. In real-life problems, however, much of the work in a deep learning project will be geared towards finding the best hyperparameters for a certain problem. In this notebook we will explore some good practices for network debugging and hyperparameters search, as well as extending our previously binary classification neural network to a multi-class one.\n",
        "\n",
        "Let's go!"
      ]
    },
    {
      "cell_type": "code",
      "source": [
        "from google.colab import drive\n",
        "drive.mount('/content/drive')"
      ],
      "metadata": {
        "id": "g1pkBCLCLKNm",
        "colab": {
          "base_uri": "https://localhost:8080/"
        },
        "outputId": "7c33d348-9d1f-499d-b6cd-35a127fd974f"
      },
      "execution_count": 1,
      "outputs": [
        {
          "output_type": "stream",
          "name": "stdout",
          "text": [
            "Drive already mounted at /content/drive; to attempt to forcibly remount, call drive.mount(\"/content/drive\", force_remount=True).\n"
          ]
        }
      ]
    },
    {
      "cell_type": "code",
      "source": [
        "import os\n",
        "os.listdir()\n",
        "GOOGLE_DRIVE_PATH_AFTER_MYDRIVE = 'Colab Notebooks/6/exercise_06_cleaned' # Please change to your folder\n",
        "GOOGLE_DRIVE_PATH = os.path.join('/content','drive', 'My Drive', GOOGLE_DRIVE_PATH_AFTER_MYDRIVE)\n",
        "print(os.listdir(GOOGLE_DRIVE_PATH))\n",
        "os.chdir(GOOGLE_DRIVE_PATH)"
      ],
      "metadata": {
        "colab": {
          "base_uri": "https://localhost:8080/"
        },
        "id": "3toWXRr4LWkO",
        "outputId": "e219a981-32f0-46bc-9238-2f067c4de69b"
      },
      "execution_count": 2,
      "outputs": [
        {
          "output_type": "stream",
          "name": "stdout",
          "text": [
            "['create_submission.sh', '__init__.py', '.DS_Store', 'exercise_code', '1.cifar10_classification.ipynb']\n"
          ]
        }
      ]
    },
    {
      "cell_type": "code",
      "execution_count": 3,
      "metadata": {
        "id": "NAUzBUoHIfci"
      },
      "outputs": [],
      "source": [
        "# Some lengthy setup.\n",
        "import matplotlib.pyplot as plt\n",
        "import numpy as np\n",
        "import urllib.request\n",
        "\n",
        "from exercise_code.networks.layer import (\n",
        "    Sigmoid, \n",
        "    Relu, \n",
        "    LeakyRelu, \n",
        "    Tanh,\n",
        ")\n",
        "from exercise_code.data import (\n",
        "    DataLoader,\n",
        "    ImageFolderDataset,\n",
        "    RescaleTransform,\n",
        "    NormalizeTransform,\n",
        "    FlattenTransform,\n",
        "    ComposeTransform,\n",
        ")\n",
        "from exercise_code.data.image_folder_dataset import RandomHorizontalFlip\n",
        "from exercise_code.networks import (\n",
        "    ClassificationNet,\n",
        "    BCE,\n",
        "    CrossEntropyFromLogits\n",
        ")\n",
        "\n",
        "%load_ext autoreload\n",
        "%autoreload 2\n",
        "%matplotlib inline\n",
        "\n",
        "plt.rcParams['figure.figsize'] = (10.0, 8.0) # set default size of plots\n",
        "plt.rcParams['image.interpolation'] = 'nearest'\n",
        "plt.rcParams['image.cmap'] = 'gray'"
      ]
    },
    {
      "cell_type": "markdown",
      "metadata": {
        "id": "-GBBxHv6Ifck"
      },
      "source": [
        "# 1. Quick recap (and some new things)"
      ]
    },
    {
      "cell_type": "markdown",
      "metadata": {
        "id": "hLEZ1UXrIfck"
      },
      "source": [
        "Until now, in the previous exercises, we focused on building and understanding all the necessary modules for training a simple model. We followed the Pytorch implementations closely, as this is the framework we will use later and we want you to have a smoother transition to its APIs. \n",
        "\n",
        "In the figure below you can see the main components in Pytorch. Before starting the actual exercise, we begin with a quick recap of **our implementation** of these components. \n",
        "\n",
        "<div class=\"alert alert-success\">\n",
        "    <h3>Task: Check Code</h3>\n",
        "    <p>Everything is already implemented for this part, but we <b>strongly</b> encourage you to check out the respective source files in order to have a better understanding. </p>\n",
        "</div>"
      ]
    },
    {
      "cell_type": "markdown",
      "metadata": {
        "id": "LqouqNCtIfcl"
      },
      "source": [
        "<img src=\"https://cdn-images-1.medium.com/max/800/1*uZrS4KjAuSJQIJPgOiaJUg.png\" style=\"width: 500px;\">"
      ]
    },
    {
      "cell_type": "markdown",
      "metadata": {
        "id": "GYoJQvPeIfcl"
      },
      "source": [
        "## 1.1 Dataset and Dataloader"
      ]
    },
    {
      "cell_type": "markdown",
      "metadata": {
        "id": "NY3si9qYIfcm"
      },
      "source": [
        "Data preparation represents an important part of deep learning projects. The data comes from different sources and in different formats and is prepared differently from application to application. One part, however, is clear: because entire datasets are usually too large for us to handle at once, we train our models on smaller batches of data. \n",
        "\n",
        "The goal of the ```Dataset``` class is to encapsulate all the 'dirty' data processing: loading and cleaning the data, storing features (or names of files where features can be found) and labels, as well as providing the means for accessing individual (transformed) items of the data using the ```__getitem__()``` function and an index. You already implemented an ```ImageFolderDataset``` (in ```exercise_code/data/image_folder_dataset.py```) class in Exercise 3. We we will reuse this class here.\n",
        "\n",
        "For processing the data, you implemented several transforms in Exercise 3 (```RescaleTransform```, ```NormalizeTransform```, ```ComposeTransform```). In this exercise we are working with images, which are multidimensional arrays, but we are using simple feedforward neural network which takes a one dimensional array as an input, so it is necessary to reshape the images before feeding them into the model. \n",
        "\n",
        "<div class=\"alert alert-success\">\n",
        "    <h3>Task: Check Code</h3>\n",
        "    <p>Please check the implementation of the reshape operation in the <code>FlattenTransform</code> class, which can be found in <code>../exercise_06/exercise_code/data/image_folder_dataset.py</code>. </p>\n",
        "</div>"
      ]
    },
    {
      "cell_type": "code",
      "execution_count": 4,
      "metadata": {
        "id": "42abuCNqIfcm"
      },
      "outputs": [],
      "source": [
        "download_url = \"https://i2dl.vc.in.tum.de/static/data/cifar10.zip\"\n",
        "i2dl_exercises_path = os.path.dirname(os.path.abspath(os.getcwd()))\n",
        "cifar_root = os.path.join(i2dl_exercises_path, \"datasets\", \"cifar10\")\n",
        "\n",
        "# Use the Cifar10 mean and standard deviation computed in Exercise 3.\n",
        "cifar_mean = np.array([0.49191375, 0.48235852, 0.44673872])\n",
        "cifar_std  = np.array([0.24706447, 0.24346213, 0.26147554])\n",
        "\n",
        "# Define all the transforms we will apply on the images when \n",
        "# retrieving them.\n",
        "rescale_transform = RescaleTransform()\n",
        "normalize_transform = NormalizeTransform(\n",
        "    mean=cifar_mean,\n",
        "    std=cifar_std\n",
        ")\n",
        "flatten_transform = FlattenTransform()\n",
        "compose_transform = ComposeTransform([rescale_transform, \n",
        "                                      normalize_transform,\n",
        "                                      flatten_transform])\n",
        "\n",
        "# Create a train, validation and test dataset.\n",
        "datasets = {}\n",
        "for mode in ['train', 'val', 'test']:\n",
        "    crt_dataset = ImageFolderDataset(\n",
        "        mode=mode,\n",
        "        root=cifar_root, \n",
        "        download_url=download_url,\n",
        "        transform=compose_transform,\n",
        "        split={'train': 0.6, 'val': 0.2, 'test': 0.2}\n",
        "    )\n",
        "    datasets[mode] = crt_dataset"
      ]
    },
    {
      "cell_type": "markdown",
      "metadata": {
        "id": "2Yt0ROI1Ifcn"
      },
      "source": [
        "Then, based on this ```Dataset``` object, we can construct a ```Dataloader``` object which samples a random mini-batch of data at once. "
      ]
    },
    {
      "cell_type": "code",
      "execution_count": 5,
      "metadata": {
        "id": "NrcdMg-qIfco"
      },
      "outputs": [],
      "source": [
        "# Create a dataloader for each split.\n",
        "dataloaders = {}\n",
        "for mode in ['train', 'val', 'test']:\n",
        "    crt_dataloader = DataLoader(\n",
        "        dataset=datasets[mode],\n",
        "        batch_size=256,\n",
        "        shuffle=True,\n",
        "        drop_last=True,\n",
        "    )\n",
        "    dataloaders[mode] = crt_dataloader"
      ]
    },
    {
      "cell_type": "markdown",
      "metadata": {
        "id": "HYCa_OumIfco"
      },
      "source": [
        "Because the ```Dataloader``` has the ```__iter__()``` method, we can simply iterate through the batches it produces, like this:\n",
        "\n",
        "```python\n",
        "for batch in dataloader['train']:\n",
        "    do_something(batch)\n",
        "```"
      ]
    },
    {
      "cell_type": "markdown",
      "metadata": {
        "id": "-jp9yA5EIfco"
      },
      "source": [
        "## 1.2 Data Augmentation\n",
        "\n",
        "After the above preprocessing steps, our data is in a good shape and ready to be fed into our network. As explained in the chapter above, we used the transformation functions `RescaleTransform`, `NormalizeTransform` and `FlattenTransform` to achieve this shape. These are the general steps that you need to perform on the data before we can even start the training. Of course, all these steps have to be applied to all three splits of our dataset (train, val and test split). So in other words, preprocessing involves preparing the data before they are used in training and inference. \n",
        "\n",
        "Besides these basic transformations, there are many other transformation methods that you can apply to the images. For example, you can <b>flip the images horizontally</b> or <b>blur the image</b> and use these new images to enlarge your dataset. This idea is called Data Augmentation and it involves methods that alter the training images to generate a synthetic dataset that is larger than your original dataset and will hopefully improve the performance of your model. The purpose here is different than in the data preprocessing steps and there is one big difference between data augmentation and data preprocessing: The transformation methods to enlarge your dataset should only be applied to the training data. The validation and test data are not affected by these methods.\n",
        "\n",
        "<div class=\"alert alert-success\">\n",
        "    <h3>Task: Check Code</h3>\n",
        "    <p>The choice of transformation methods to use for data augmentation can be seen as a hyperparameter of your model and you can try to include these to enlarge your training data and obtain better results for your model. In <code>exercise_code/data/image_folder_dataset.py</code> we implemented the function <code>RandomHorizontalFlip</code> for you, which is randomly flipping an image. Check out the implementation.</p>\n",
        "    <p> Later, we will apply some hyperparameter tuning and in order to improve your model's accuracy, you could try to include some data augmentation methods. Fell free to play around and maybe also implement some other methods as for example Gaussian Blur or Rotation. </p>       \n",
        "</div>\n",
        "\n",
        "Let us quickly check out the `RandomHorizontalFlip` method with an image of the Cifar10 dataset in the following cell."
      ]
    },
    {
      "cell_type": "code",
      "execution_count": 6,
      "metadata": {
        "id": "SMIoggYzIfcp",
        "colab": {
          "base_uri": "https://localhost:8080/",
          "height": 98
        },
        "outputId": "ca3215be-95d0-466e-91d0-5e45bdb6e2b2"
      },
      "outputs": [
        {
          "output_type": "display_data",
          "data": {
            "text/plain": [
              "<Figure size 144x144 with 2 Axes>"
            ],
            "image/png": "[encoded data removed]"
          },
          "metadata": {
            "needs_background": "light"
          }
        }
      ],
      "source": [
        "#Load the data in a dataset without any transformation \n",
        "dataset = ImageFolderDataset(\n",
        "        mode=mode,\n",
        "        root=cifar_root, \n",
        "        download_url=download_url,\n",
        "        split={'train': 0.6, 'val': 0.2, 'test': 0.2},\n",
        "    )\n",
        "\n",
        "#Retrieve an image from the dataset and flip it\n",
        "image = dataset[1]['image']\n",
        "transform = RandomHorizontalFlip(1)\n",
        "image_flipped = transform(image)\n",
        "\n",
        "#Show the two images\n",
        "plt.figure(figsize = (2,2))\n",
        "plt.subplot(1, 2, 1)\n",
        "plt.imshow(image.astype('uint8'))\n",
        "plt.axis('off')\n",
        "plt.subplot(1, 2, 2)\n",
        "plt.imshow(image_flipped.astype('uint8'))\n",
        "plt.axis('off')\n",
        "plt.title(\"Left: Original Image, Right: Flipped image\")\n",
        "plt.show()"
      ]
    },
    {
      "cell_type": "markdown",
      "metadata": {
        "id": "bjL_7lvdIfcp"
      },
      "source": [
        "## 1.3 Layers\n",
        "\n",
        "Now, that the data is prepared, we can discuss the model in which we are feeding the data. In our case the model will be a neural network. \n",
        "\n",
        "In Exercise 5, you implemented a simple 2-layer neural network that had a hidden size as a parameter:\n",
        "\n",
        "$$ \n",
        "{\\hat{y}} = \\sigma(\\sigma({x W_1} + {b_1}) {W_2} + {b_2}) \n",
        "$$\n",
        "\n",
        "where $ \\sigma({x}) $ was the sigmoid function, $ {x} $ was the input, $ {W_1}, {W_2} $ the weight matrices and $ {b_1}, {b_2}$ the biases for the two layers.\n",
        "\n",
        "This is how we used this network:"
      ]
    },
    {
      "cell_type": "code",
      "execution_count": 7,
      "metadata": {
        "id": "MKK3FTnZIfcp"
      },
      "outputs": [],
      "source": [
        "input_size = datasets['train'][0]['image'].shape[0]\n",
        "model = ClassificationNet(input_size=input_size, \n",
        "                          hidden_size=512)"
      ]
    },
    {
      "cell_type": "markdown",
      "metadata": {
        "id": "p1b9T2RoIfcq"
      },
      "source": [
        "Note that we updated the ```ClassificationNet``` from the previous exercise, so that now you can customize more: the number of outputs, the choice of activation function, the hidden size etc. We encourage you to check out the implementation in ```exercise_code/networks/classification_net.py``` "
      ]
    },
    {
      "cell_type": "code",
      "execution_count": 8,
      "metadata": {
        "id": "6VvIYRi0Ifcq"
      },
      "outputs": [],
      "source": [
        "num_layer = 2\n",
        "reg = 0.1\n",
        "\n",
        "model = ClassificationNet(activation=Sigmoid(), \n",
        "                          num_layer=num_layer, \n",
        "                          reg=reg,\n",
        "                          num_classes=10)"
      ]
    },
    {
      "cell_type": "markdown",
      "metadata": {
        "id": "cbktzYMYIfcq"
      },
      "source": [
        "Then, the forward and backward passes through the model were simply:\n",
        "\n",
        "```python\n",
        "\n",
        "# X is a batch of training features \n",
        "# X.shape = (batch_size, features_size)\n",
        "y_out = model.forward(X)\n",
        "\n",
        "# dout is the gradient of the loss function w.r.t the output of the network.\n",
        "# dout.shape = (batch_size, )\n",
        "model.backward(dout)\n",
        "```"
      ]
    },
    {
      "cell_type": "markdown",
      "metadata": {
        "id": "OAgsLRAcIfcq"
      },
      "source": [
        "Just as the learning rate or the number of iterations we want to train for, the number of hidden layers and the number of units in each hidden layer are also hyperparameters. In this notebook you will play with networks of different sizes and will see the impact that the network capacity has.\n",
        "\n",
        "Before we move on to the loss functions, we want to have a look at the activation functions. The choice of an activation function can have a huge impact on the performance of the network that you are designing. So far, you have implemented the `Sigmoid` and the `Relu` activation function in Exercise 5. \n",
        "\n",
        "<div class=\"alert alert-success\">\n",
        "    <h3>Task: Check Code</h3>\n",
        "    <p>Take a look at the <code>Sigmoid</code> and the <code>Relu</code> class in <code>exercise_code/networks/layer.py</code> and the implementation of the respective forward and backward pass. Make sure to understand why we use <b>element-wise product</b> instead of dot product in the backward pass of the <code>Sigmoid</code> class to compute the gradient $dx$. That will be helpful for your later implementation of other activation functions.</p>\n",
        "    <p> <b>Note:</b> The <code>cache</code> variable is used to store information from the forward pass and then pass this information in the backward pass to make use of it there. The implementation of both classes show that this variable can be used differently - depending on what information is needed in the backward pass. </p>\n",
        "</div>\n",
        "\n",
        "Now, we want to have a look at two other, very common activation functions that you have already met in the lecture: Leaky ReLU activation function and Tanh activation function. \n",
        "\n",
        "**Leaky Relus** are one attempt to fix the “dying ReLU” problem. Instead of the function being zero when $x<0$, a leaky ReLU has a small negative slope (for example, 0.01). That is, the function computes $f(x) = \\mathbb{1}(x < 0) (\\alpha x) + \\mathbb{1}(x>=0) (x)$ where $\\alpha$ is a small constant. Some people report success with this form of activation function, but the results are not always consistent.\n",
        "\n",
        "The **tanh non-linearity** squashes a real-valued number to the range [-1, 1]. Like the sigmoid neuron, its activations saturate, but unlike the sigmoid neuron its output is zero-centered. Therefore, in practice the tanh non-linearity is always preferred to the sigmoid non-linearity. Also note that the tanh neuron is simply a scaled sigmoid neuron, in particular the following holds: $\\tanh(x) = 2 \\cdot \\sigma(2x) -1$.\n",
        "\n",
        "<img class=left src=https://pytorch.org/docs/stable/_images/LeakyReLU.png alt=\"Figure3\" width=\"350\" align='left'/> \n",
        "<img class=right src=https://pytorch.org/docs/stable/_images/Tanh.png alt=\"Figure4\" width=\"350\"/>\n",
        "\n",
        "<div class=\"alert alert-info\">\n",
        "    <h3>Task: Implement Activation Layers</h3>\n",
        "    <p> Now, it is your turn to implement the <code>LeakyRelu</code> and the <code>Tanh</code> class in <code>exercise_code/networks/layer.py</code> by completing the <code>forward</code> and the <code>backward</code> functions. You can test your implementation in the following two cells. </p>\n",
        "    <p> <b>Note:</b> Always remember to return a cache in <code>forward</code> for later backpropagation in <code>backward</code>. As we have seen above, the <code>cache</code> variable can be used differently for two activation functions.</p>\n",
        "</div>\n",
        "\n",
        "Use this cell to test your implementation of the `LeakyRelu` class:"
      ]
    },
    {
      "cell_type": "code",
      "execution_count": 9,
      "metadata": {
        "id": "fxcX_sIbIfcr",
        "colab": {
          "base_uri": "https://localhost:8080/"
        },
        "outputId": "cbd7c777-96ae-4fc1-ebb5-c355b752f319"
      },
      "outputs": [
        {
          "output_type": "stream",
          "name": "stdout",
          "text": [
            "LeakyReluForwardTest passed.\n",
            "LeakyReluBackwardTest passed.\n",
            "Congratulations you have passed all the unit tests!!! Tests passed: 2/2\n",
            "Score: 100/100\n",
            "You secured a score of :100\n"
          ]
        }
      ],
      "source": [
        "from exercise_code.tests.layer_tests import *\n",
        "print(LeakyReluTestWrapper()())"
      ]
    },
    {
      "cell_type": "markdown",
      "metadata": {
        "id": "8DUkhvVxIfcs"
      },
      "source": [
        "And this cell to test your implementation of the `Tanh` class:"
      ]
    },
    {
      "cell_type": "code",
      "execution_count": 10,
      "metadata": {
        "id": "DcyJe31-Ifcs",
        "colab": {
          "base_uri": "https://localhost:8080/"
        },
        "outputId": "c21f58db-b223-4ff2-d6cf-0e246c97f48b"
      },
      "outputs": [
        {
          "output_type": "stream",
          "name": "stdout",
          "text": [
            "TanhForwardTest passed.\n",
            "TanhBackwardTest passed.\n",
            "Congratulations you have passed all the unit tests!!! Tests passed: 2/2\n",
            "Score: 100/100\n",
            "You secured a score of :100\n"
          ]
        }
      ],
      "source": [
        "print(TanhTestWrapper()())"
      ]
    },
    {
      "cell_type": "markdown",
      "metadata": {
        "id": "2_8X0IaEIfcs"
      },
      "source": [
        "Congratulations, you now implemented all four different activation functions! These activation layers are now ready to be used when you start building your own network."
      ]
    },
    {
      "cell_type": "markdown",
      "metadata": {
        "id": "sYQdk5OiIfct"
      },
      "source": [
        "## 1.4 Loss\n",
        "\n",
        "In order to measure how well a network is performing, we implemented several ```Loss``` classes (```L1```, ```MSE```, ```BCE```, each preferred for a certain type of problems) in ```exercise_code/networks/loss.py```.\n",
        "\n",
        "Each implemented a ```forward()``` method, which outputs a number that we use as a proxy for our network performance. \n",
        "\n",
        "Also, because our goal was to change the weights of the network such that this loss measure decreases, we were also interested in the gradients of the loss w.r.t the outputs of the network, $ \\nabla_{\\hat{y}} L({\\hat{y}}, {y}) $. This was implemented in ```backward()```. \n",
        "\n",
        "In previous exercises, we only worked with binary classification and used binary cross entropy (```BCE```) as a loss function.\n",
        "\n",
        "$$ BCE(\\hat{y}, y) = \\frac{1}{N} \\sum_{i=1}^N \\Big [-y_i \\log(\\hat{y_i}) - (1-y_i) \\log(1 - \\hat{y_i}) \\Big] $$ \n",
        "\n",
        "where\n",
        "- $ N $ was the number of samples we were considering\n",
        "- $\\hat{y}_i$ was the network's prediction for sample $i$. Note that this was a valid probability $\\in [0, 1]$, because we applied a [sigmoid](https://en.wikipedia.org/wiki/Sigmoid_function) activation on the last layer. \n",
        "- $ y_i $ was the ground truth label (0 or 1, depending on the class)\n",
        "\n",
        "Because we have 10 classes in the CIFAR10 dataset, we need a generalization of the binary cross entropy for multiple classes. This is simply called the cross entropy loss and has the following definition:\n",
        "\n",
        "$$ CE(\\hat{y}, y) = \\frac{1}{N} \\sum_{i=1}^N \\sum_{k=1}^{C} \\Big[ -y_{ik} \\log(\\hat{y}_{ik}) \\Big] $$\n",
        "\n",
        "where:\n",
        "- $ N $ is again the number of samples\n",
        "- $ C $ is the number of classes\n",
        "- $ \\hat{y}_{ik} $ is the probability that the model assigns for the $k$th class when the $i$th sample is the input. **Because we don't apply any activation function on the last layer of our network, its outputs for each sample will not be a valid probability distribution over the classes. We call these raw outputs of the network '[logits](https://datascience.stackexchange.com/questions/31041/what-does-logits-in-machine-learning-mean/31045)' and we will apply a [softmax](https://en.wikipedia.org/wiki/Softmax_function) activation in order to obtain a valid probability distribution.** \n",
        "- $y_{ik} = 1 $ iff the true label of the $i$th sample is $k$ and 0 otherwise. This is called a [one-hot encoding](https://machinelearningmastery.com/why-one-hot-encode-data-in-machine-learning/).\n",
        "\n",
        "You can check for yourself that when the number of classes $ C $ is 2, then the binary cross entropy is actually equivalent to the cross entropy.\n",
        "\n",
        "<div class=\"alert alert-success\">\n",
        "    <h3>Task: Check Code</h3>\n",
        "    <p>Please check the implementation of the <code>CrossEntropyFromLogits</code> class, which can be found in <code>../exercise_06/exercise_code/networks/loss.py</code>. </p>\n",
        "</div>"
      ]
    },
    {
      "cell_type": "code",
      "execution_count": 11,
      "metadata": {
        "id": "hI3lxAtCIfct"
      },
      "outputs": [],
      "source": [
        "loss = CrossEntropyFromLogits()"
      ]
    },
    {
      "cell_type": "markdown",
      "metadata": {
        "id": "G41fx2GnIfct"
      },
      "source": [
        "Just as with the previous losses we have seen, we can simply get the results of the forward and backward passes as follows:"
      ]
    },
    {
      "cell_type": "markdown",
      "metadata": {
        "id": "1QBNM_P8Ifct"
      },
      "source": [
        "```python\n",
        "# y_out is the output of the neural network\n",
        "# y_truth is the actual label from the dataset\n",
        "loss.forward(y_out, y_truth)\n",
        "loss.backward(y_out, y_truth)\n",
        "```"
      ]
    },
    {
      "cell_type": "markdown",
      "metadata": {
        "id": "ev9NZrRDIfcu"
      },
      "source": [
        "## 1.5 Optimizer\n",
        "\n",
        "Now, knowing the gradient of the loss w.r.t the ouputs of the network, as well as the local gradient for each layer of the network, we can use the chain rule to compute all gradients. \n",
        "\n",
        "<div class=\"alert alert-success\">\n",
        "    <h3>Task: Check Code</h3>\n",
        "    <p>We implemented several optimizer classes <code>SGD</code>, <code>Adam</code>, <code>sgd_momentum</code> class that implement different first-order parameter update rules, which can be found in <code>../exercise_06/exercise_code/networks/optimizer.py</code>. </p>\n",
        "    <p>The <code>step()</code> method iterates through all the parameters of a model and updates them using the gradient information.</p>\n",
        "</div>\n",
        "\n",
        "What the optimizer is doing, in pseudocode, is the following:\n",
        "\n",
        "```python\n",
        "for param in model:\n",
        "    # Use the gradient to update the weights.\n",
        "    update(param)\n",
        "    \n",
        "    # Reset the gradient after each update.\n",
        "    param.gradient = 0\n",
        "```\n",
        "\n",
        "```SGD``` had the simplest update rule:\n",
        "```python\n",
        "def update(param):\n",
        "    param = param - learning_rate * param.gradient\n",
        "```\n",
        "\n",
        "For the more complicated update rules, see ```exercise_code/networks/optimizer.py```"
      ]
    },
    {
      "cell_type": "markdown",
      "metadata": {
        "id": "lJjX3cgZIfcu"
      },
      "source": [
        "## 1.6 Solver\n",
        "\n",
        "The ```Solver``` is where all the above elements come together: Given a train and a validation dataloader, a model, a loss and an optimizer, it uses the training data to optimize a model in order to get better predictions. We simply call ```train()``` and it does its 'magic' for us!\n",
        "```python\n",
        "solver = Solver(model, \n",
        "                dataloaders['train'], \n",
        "                dataloaders['val'], \n",
        "                learning_rate=0.001, \n",
        "                loss_func=MSE(), \n",
        "                optimizer=SGD)\n",
        "\n",
        "solver.train(epochs=epochs)\n",
        "```\n",
        "\n",
        "<div class=\"alert alert-success\">\n",
        "    <h3>Task: Check Code</h3>\n",
        "    <p>Please check out the implementation of <code>train()</code> in <code>../exercise_06/exercise_code/solver.py</code>. </p>\n",
        "</div>"
      ]
    },
    {
      "cell_type": "markdown",
      "metadata": {
        "id": "nLiV_MYPIfcu"
      },
      "source": [
        "## 1.7 Weight Regularization\n",
        "\n",
        "Before we finish this section of recap, we want to take a look at some regularization method that has been introduced in the lecture and that is super helpful to improve robustness of our model. Here, we talk about weight regularization.\n",
        "\n",
        "Weight regularization has been introduced to you as a method preventing our model from overfitting. Essentially, it is a term (solely depending on the weights of our model) that is added to the final loss and that encodes some preference for a certain set of weights $W$ over others. In the lecture, we compared two weight regularization methods and their respective preference for weight vectors. We made the following observation: \n",
        "\n",
        "1. L1 regularization: Enforces sparsity \n",
        "2. L2 regularization: Enforces that weights have similar values\n",
        "\n",
        "The most common weight regularization method is the L2 regularization. From the observations made in the lecture that makes totally sense - at least when we compare it to the L1 regularization. The L2 regularization penalty in the loss prefers smaller and more diffuse weight vectors and hence the model is encouraged to take into account all input dimensions to small amounts rather than a few input dimensions and very strongly.\n",
        "\n",
        "When using weight regularization, the loss function is a composition of two parts:\n",
        "$$L = \\underbrace{\\frac{1}{N} \\sum_{i} L_i}_{\\text{data loss}}  + \\underbrace{\\lambda R(W)}_{\\text{regularization loss}}$$\n",
        "The first one being the data loss, which is calculated with the Cross Entropy loss in our model. The second part is called the regularization loss $R(W)$ and is computed in the L2 case as follows:\n",
        "$$R(W) = \\sum_{k} \\sum_{l} w_{k,l}^2$$\n",
        "\n"
      ]
    },
    {
      "cell_type": "markdown",
      "metadata": {
        "id": "2nrQfZWJIfcu"
      },
      "source": [
        "# 2. An overview of hyperparameters"
      ]
    },
    {
      "cell_type": "markdown",
      "metadata": {
        "collapsed": true,
        "id": "EVv5KOn1Ifcu"
      },
      "source": [
        "\n",
        "<img src=https://images.deepai.org/glossary-terms/05c646fe1676490aa0b8cab0732a02b2/hyperparams.png alt=hyperparameter width=700>\n",
        "\n",
        "A **hyperparameter** is a parameter that is set before the learning process begins. Recall that the parameters of weight matrix and bias vector are learned during the learning process.\n",
        "\n",
        "The hyperparameters are essential, for they control and affect the whole training and have a great impact on the performance of the model. \n",
        "\n",
        "Some examples of hyperparameters we have covered in lectures:\n",
        "* Network architecture\n",
        "    * Choice of activation function\n",
        "    * Number of layers\n",
        "    * ...\n",
        "* Learning rate\n",
        "* Number of epochs\n",
        "* Batch size\n",
        "* Regularization strength\n",
        "* Momentum\n",
        "* ..."
      ]
    },
    {
      "cell_type": "markdown",
      "metadata": {
        "id": "zVYds7RBIfcu"
      },
      "source": [
        "## 2.1 Start debugging your own network!"
      ]
    },
    {
      "cell_type": "markdown",
      "metadata": {
        "id": "-OrQoBRMIfcv"
      },
      "source": [
        "As already suggested in the lectures, you may always want to start from small and simple architectures, to make sure you are going the right way. \n",
        "\n",
        "First you may need to overfit a single training sample, then a few batches of training samples, then go deeper with larger neural networks and the whole training data.\n",
        "\n",
        "Here we always provide a default neural network (i.e. ClassificationNet) with arbitrary number of layers, which is a generalization from a fixed 2-layer neural network in exercise 5. You are welcome to implement your own network, in that case just implement **MyOwnNetwork** in ```exercise_code/networks/classification_net.py```. You can also copy things from ClassficationNet and make a little adjustment to your own network. For either way, just pick a network and comment out the other one, then run the cells below for debugging.\n",
        "\n",
        "<div class=\"alert alert-warning\">\n",
        "    <h3>Note:</h3>\n",
        "    <p>Please, make sure you don't modify the ClassificationNet itself so that you can always have a working network to fall back on</p>\n",
        "    <p>In order to pass this submissions, you can <b>first stick to the default ClassificationNet implementation without changing any code at all</b>. The goal of this submission is to find reasonable hyperparameters and the parameter options of the ClassificationNet are broad enough.</p>\n",
        "    <p>Once you have surpassed the submission goal, you can try to implement additional activation functions in the accompanying notebook, try different weight initializations or other adjustments by writing your own network architecture in the MyOwnNetwork class.</p>\n",
        "</div>"
      ]
    },
    {
      "cell_type": "markdown",
      "metadata": {
        "id": "MqTP6SwzIfcv"
      },
      "source": [
        "First, let's begin with a 2-layer neural network, and overfit one single training sample.\n",
        "\n",
        "After training, let's evaluate the training process by plotting the loss curves."
      ]
    },
    {
      "cell_type": "code",
      "execution_count": 12,
      "metadata": {
        "id": "8vpwi4BLIfcv",
        "colab": {
          "base_uri": "https://localhost:8080/"
        },
        "outputId": "1d581157-68a8-4638-8b0c-d135997c288e"
      },
      "outputs": [
        {
          "output_type": "stream",
          "name": "stdout",
          "text": [
            "(Epoch 1 / 20) train loss: 2.327992; val loss: 2.333577\n",
            "(Epoch 2 / 20) train loss: 2.327992; val loss: 2.320803\n",
            "(Epoch 3 / 20) train loss: 2.201901; val loss: 2.329869\n",
            "(Epoch 4 / 20) train loss: 2.052337; val loss: 2.355061\n",
            "(Epoch 5 / 20) train loss: 1.881469; val loss: 2.387624\n",
            "(Epoch 6 / 20) train loss: 1.711020; val loss: 2.419109\n",
            "(Epoch 7 / 20) train loss: 1.556224; val loss: 2.443894\n",
            "(Epoch 8 / 20) train loss: 1.413779; val loss: 2.460766\n",
            "(Epoch 9 / 20) train loss: 1.277494; val loss: 2.472060\n",
            "(Epoch 10 / 20) train loss: 1.146821; val loss: 2.481483\n",
            "(Epoch 11 / 20) train loss: 1.022606; val loss: 2.492313\n",
            "(Epoch 12 / 20) train loss: 0.906329; val loss: 2.506576\n",
            "(Epoch 13 / 20) train loss: 0.800357; val loss: 2.524869\n",
            "(Epoch 14 / 20) train loss: 0.706310; val loss: 2.546673\n",
            "(Epoch 15 / 20) train loss: 0.624434; val loss: 2.571004\n",
            "(Epoch 16 / 20) train loss: 0.553740; val loss: 2.596932\n",
            "(Epoch 17 / 20) train loss: 0.492828; val loss: 2.623857\n",
            "(Epoch 18 / 20) train loss: 0.440498; val loss: 2.651549\n",
            "(Epoch 19 / 20) train loss: 0.395530; val loss: 2.680034\n",
            "(Epoch 20 / 20) train loss: 0.356914; val loss: 2.709408\n"
          ]
        }
      ],
      "source": [
        "from exercise_code.solver import Solver\n",
        "from exercise_code.networks.optimizer import SGD, Adam\n",
        "from exercise_code.networks import MyOwnNetwork\n",
        "\n",
        "num_layer = 2\n",
        "epochs = 20\n",
        "reg = 0.1\n",
        "batch_size = 4\n",
        "\n",
        "model = ClassificationNet(num_layer=num_layer, reg=reg)\n",
        "# model = MyOwnNetwork()\n",
        "\n",
        "loss = CrossEntropyFromLogits()\n",
        "\n",
        "# Make a new data loader with a single training image\n",
        "overfit_dataset = ImageFolderDataset(\n",
        "    mode='train',\n",
        "    root=cifar_root, \n",
        "    download_url=download_url,\n",
        "    transform=compose_transform,\n",
        "    limit_files=1\n",
        ")\n",
        "dataloaders['train_overfit_single_image'] = DataLoader(\n",
        "    dataset=overfit_dataset,\n",
        "    batch_size=batch_size,\n",
        "    shuffle=True,\n",
        "    drop_last=False,\n",
        ")\n",
        "\n",
        "# Decrease validation data for only debugging\n",
        "debugging_validation_dataset = ImageFolderDataset(\n",
        "    mode='val',\n",
        "    root=cifar_root, \n",
        "    download_url=download_url,\n",
        "    transform=compose_transform,\n",
        "    limit_files=100\n",
        ")\n",
        "dataloaders['val_500files'] = DataLoader(\n",
        "    dataset=debugging_validation_dataset,\n",
        "    batch_size=batch_size,\n",
        "    shuffle=True,\n",
        "    drop_last=True,\n",
        ")\n",
        "\n",
        "solver = Solver(model, dataloaders['train_overfit_single_image'], dataloaders['val_500files'], \n",
        "                learning_rate=1e-3, loss_func=loss, optimizer=Adam)\n",
        "\n",
        "solver.train(epochs=epochs)"
      ]
    },
    {
      "cell_type": "code",
      "execution_count": 13,
      "metadata": {
        "id": "By6EJDsXIfcv",
        "colab": {
          "base_uri": "https://localhost:8080/",
          "height": 513
        },
        "outputId": "034f033d-da42-470a-8799-796396428065"
      },
      "outputs": [
        {
          "output_type": "display_data",
          "data": {
            "text/plain": [
              "<Figure size 720x576 with 1 Axes>"
            ],
            "image/png": "[encoded data removed]"
          },
          "metadata": {
            "needs_background": "light"
          }
        }
      ],
      "source": [
        "plt.title('Loss curves')\n",
        "plt.plot(solver.train_loss_history, '-', label='train')\n",
        "plt.plot(solver.val_loss_history, '-', label='val')\n",
        "plt.legend(loc='lower right')\n",
        "plt.xlabel('Iteration')\n",
        "plt.show()"
      ]
    },
    {
      "cell_type": "code",
      "execution_count": 14,
      "metadata": {
        "id": "GrqBVSEzIfcv",
        "colab": {
          "base_uri": "https://localhost:8080/"
        },
        "outputId": "d79e3d45-4cbe-4af4-e701-941da7459ade"
      },
      "outputs": [
        {
          "output_type": "stream",
          "name": "stdout",
          "text": [
            "Training accuray: 1.00000\n",
            "Validation accuray: 0.07000\n"
          ]
        }
      ],
      "source": [
        "print(\"Training accuray: %.5f\" % (solver.get_dataset_accuracy(dataloaders['train_overfit_single_image'])))\n",
        "print(\"Validation accuray: %.5f\" % (solver.get_dataset_accuracy(dataloaders['val_500files'])))"
      ]
    },
    {
      "cell_type": "markdown",
      "metadata": {
        "id": "Mi8PrlMYIfcw"
      },
      "source": [
        "This time let's try to overfit to a small set of training batch samples. Please observe the difference from above. "
      ]
    },
    {
      "cell_type": "code",
      "execution_count": 15,
      "metadata": {
        "id": "5ZuPOMv9Ifcw",
        "colab": {
          "base_uri": "https://localhost:8080/"
        },
        "outputId": "203689b6-9833-4581-f008-19681c5d2b19"
      },
      "outputs": [
        {
          "output_type": "stream",
          "name": "stdout",
          "text": [
            "(Epoch 1 / 100) train loss: 2.331938; val loss: 2.334331\n",
            "(Epoch 2 / 100) train loss: 2.325609; val loss: 2.337541\n",
            "(Epoch 3 / 100) train loss: 2.207519; val loss: 2.391639\n",
            "(Epoch 4 / 100) train loss: 2.048381; val loss: 2.439445\n",
            "(Epoch 5 / 100) train loss: 2.048479; val loss: 2.522273\n",
            "(Epoch 6 / 100) train loss: 1.925998; val loss: 2.566617\n",
            "(Epoch 7 / 100) train loss: 1.857588; val loss: 2.628791\n",
            "(Epoch 8 / 100) train loss: 1.725757; val loss: 2.711391\n",
            "(Epoch 9 / 100) train loss: 1.752357; val loss: 2.795958\n",
            "(Epoch 10 / 100) train loss: 1.810925; val loss: 2.842225\n",
            "(Epoch 11 / 100) train loss: 1.718056; val loss: 2.855684\n",
            "(Epoch 12 / 100) train loss: 1.646908; val loss: 2.979115\n",
            "(Epoch 13 / 100) train loss: 1.625130; val loss: 3.089495\n",
            "(Epoch 14 / 100) train loss: 1.672408; val loss: 3.119818\n",
            "(Epoch 15 / 100) train loss: 1.598648; val loss: 3.084452\n",
            "(Epoch 16 / 100) train loss: 1.674407; val loss: 3.100027\n",
            "(Epoch 17 / 100) train loss: 1.714083; val loss: 3.168348\n",
            "(Epoch 18 / 100) train loss: 1.656148; val loss: 3.252408\n",
            "(Epoch 19 / 100) train loss: 1.739993; val loss: 3.245475\n",
            "(Epoch 20 / 100) train loss: 1.561257; val loss: 3.253790\n",
            "(Epoch 21 / 100) train loss: 1.540376; val loss: 3.314405\n",
            "(Epoch 22 / 100) train loss: 1.646614; val loss: 3.308773\n",
            "(Epoch 23 / 100) train loss: 1.581151; val loss: 3.302904\n",
            "(Epoch 24 / 100) train loss: 1.422976; val loss: 3.371343\n",
            "(Epoch 25 / 100) train loss: 1.562293; val loss: 3.425782\n",
            "(Epoch 26 / 100) train loss: 1.647568; val loss: 3.397219\n",
            "(Epoch 27 / 100) train loss: 1.467402; val loss: 3.377734\n",
            "(Epoch 28 / 100) train loss: 1.495070; val loss: 3.354369\n",
            "(Epoch 29 / 100) train loss: 1.588650; val loss: 3.382466\n",
            "(Epoch 30 / 100) train loss: 1.483492; val loss: 3.407889\n",
            "(Epoch 31 / 100) train loss: 1.515264; val loss: 3.393643\n",
            "(Epoch 32 / 100) train loss: 1.466285; val loss: 3.401993\n",
            "(Epoch 33 / 100) train loss: 1.423159; val loss: 3.425434\n",
            "(Epoch 34 / 100) train loss: 1.400972; val loss: 3.430258\n",
            "(Epoch 35 / 100) train loss: 1.348053; val loss: 3.429814\n",
            "(Epoch 36 / 100) train loss: 1.329759; val loss: 3.433689\n",
            "(Epoch 37 / 100) train loss: 1.288834; val loss: 3.455196\n",
            "(Epoch 38 / 100) train loss: 1.348734; val loss: 3.464836\n",
            "(Epoch 39 / 100) train loss: 1.260980; val loss: 3.498036\n",
            "(Epoch 40 / 100) train loss: 1.358767; val loss: 3.473409\n",
            "(Epoch 41 / 100) train loss: 1.390493; val loss: 3.433425\n",
            "(Epoch 42 / 100) train loss: 1.292045; val loss: 3.491149\n",
            "(Epoch 43 / 100) train loss: 1.268652; val loss: 3.539978\n",
            "(Epoch 44 / 100) train loss: 1.330824; val loss: 3.513853\n",
            "(Epoch 45 / 100) train loss: 1.287729; val loss: 3.509725\n",
            "(Epoch 46 / 100) train loss: 1.290267; val loss: 3.519821\n",
            "(Epoch 47 / 100) train loss: 1.172291; val loss: 3.522474\n",
            "(Epoch 48 / 100) train loss: 1.195694; val loss: 3.491398\n",
            "(Epoch 49 / 100) train loss: 1.170439; val loss: 3.480601\n",
            "(Epoch 50 / 100) train loss: 1.119711; val loss: 3.482389\n",
            "(Epoch 51 / 100) train loss: 1.257560; val loss: 3.513039\n",
            "(Epoch 52 / 100) train loss: 1.181583; val loss: 3.600747\n",
            "(Epoch 53 / 100) train loss: 1.283340; val loss: 3.644795\n",
            "(Epoch 54 / 100) train loss: 1.265615; val loss: 3.624526\n",
            "(Epoch 55 / 100) train loss: 1.159158; val loss: 3.576834\n",
            "(Epoch 56 / 100) train loss: 1.182414; val loss: 3.551872\n",
            "(Epoch 57 / 100) train loss: 1.105850; val loss: 3.560429\n",
            "(Epoch 58 / 100) train loss: 1.130616; val loss: 3.571432\n",
            "(Epoch 59 / 100) train loss: 1.134558; val loss: 3.574873\n",
            "(Epoch 60 / 100) train loss: 1.027422; val loss: 3.568672\n",
            "(Epoch 61 / 100) train loss: 1.027777; val loss: 3.541614\n",
            "(Epoch 62 / 100) train loss: 1.071632; val loss: 3.526807\n",
            "(Epoch 63 / 100) train loss: 1.000724; val loss: 3.545189\n",
            "(Epoch 64 / 100) train loss: 1.001871; val loss: 3.569452\n",
            "(Epoch 65 / 100) train loss: 1.005035; val loss: 3.568322\n",
            "(Epoch 66 / 100) train loss: 1.012345; val loss: 3.581639\n",
            "(Epoch 67 / 100) train loss: 1.031481; val loss: 3.623874\n",
            "(Epoch 68 / 100) train loss: 1.022743; val loss: 3.655385\n",
            "(Epoch 69 / 100) train loss: 1.002597; val loss: 3.638895\n",
            "(Epoch 70 / 100) train loss: 1.047481; val loss: 3.595655\n",
            "(Epoch 71 / 100) train loss: 1.074237; val loss: 3.591181\n",
            "(Epoch 72 / 100) train loss: 1.023344; val loss: 3.627247\n",
            "(Epoch 73 / 100) train loss: 0.985536; val loss: 3.649597\n",
            "(Epoch 74 / 100) train loss: 0.956673; val loss: 3.626058\n",
            "(Epoch 75 / 100) train loss: 0.953968; val loss: 3.563884\n",
            "(Epoch 76 / 100) train loss: 0.932819; val loss: 3.543700\n",
            "(Epoch 77 / 100) train loss: 0.907463; val loss: 3.561685\n",
            "(Epoch 78 / 100) train loss: 0.920114; val loss: 3.581150\n",
            "(Epoch 79 / 100) train loss: 0.902032; val loss: 3.603120\n",
            "(Epoch 80 / 100) train loss: 0.899427; val loss: 3.566424\n",
            "(Epoch 81 / 100) train loss: 0.928899; val loss: 3.577112\n",
            "(Epoch 82 / 100) train loss: 0.924480; val loss: 3.587221\n",
            "(Epoch 83 / 100) train loss: 0.964044; val loss: 3.580696\n",
            "(Epoch 84 / 100) train loss: 0.874808; val loss: 3.583204\n",
            "(Epoch 85 / 100) train loss: 0.938830; val loss: 3.587788\n",
            "(Epoch 86 / 100) train loss: 0.853180; val loss: 3.594803\n",
            "(Epoch 87 / 100) train loss: 0.909091; val loss: 3.579225\n",
            "(Epoch 88 / 100) train loss: 0.899377; val loss: 3.540678\n",
            "(Epoch 89 / 100) train loss: 0.877273; val loss: 3.561657\n",
            "(Epoch 90 / 100) train loss: 0.851209; val loss: 3.592029\n",
            "(Epoch 91 / 100) train loss: 0.860576; val loss: 3.592714\n",
            "(Epoch 92 / 100) train loss: 0.917568; val loss: 3.586197\n",
            "(Epoch 93 / 100) train loss: 0.916384; val loss: 3.648954\n",
            "(Epoch 94 / 100) train loss: 1.027391; val loss: 3.628603\n",
            "(Epoch 95 / 100) train loss: 0.898212; val loss: 3.659187\n",
            "(Epoch 96 / 100) train loss: 0.937496; val loss: 3.673554\n",
            "(Epoch 97 / 100) train loss: 0.982593; val loss: 3.657673\n",
            "(Epoch 98 / 100) train loss: 0.895751; val loss: 3.655952\n",
            "(Epoch 99 / 100) train loss: 0.840275; val loss: 3.596174\n",
            "(Epoch 100 / 100) train loss: 0.906998; val loss: 3.558889\n"
          ]
        }
      ],
      "source": [
        "from exercise_code.networks import MyOwnNetwork\n",
        "\n",
        "num_layer = 2\n",
        "epochs = 100\n",
        "reg = 0.1\n",
        "num_samples = 10\n",
        "\n",
        "model = ClassificationNet(num_layer=num_layer, reg=reg)\n",
        "# model = MyOwnNetwork()\n",
        "\n",
        "loss = CrossEntropyFromLogits()\n",
        "\n",
        "# Make a new data loader with a our num_samples training image\n",
        "overfit_dataset = ImageFolderDataset(\n",
        "    mode='train',\n",
        "    root=cifar_root, \n",
        "    download_url=download_url,\n",
        "    transform=compose_transform,\n",
        "    limit_files=num_samples\n",
        ")\n",
        "dataloaders['train_overfit_10samples'] = DataLoader(\n",
        "    dataset=overfit_dataset,\n",
        "    batch_size=batch_size,\n",
        "    shuffle=True,\n",
        "    drop_last=False,\n",
        ")\n",
        "\n",
        "solver = Solver(model, dataloaders['train_overfit_10samples'], dataloaders['val_500files'], \n",
        "                learning_rate=1e-3, loss_func=loss, optimizer=Adam)\n",
        "\n",
        "solver.train(epochs=epochs)"
      ]
    },
    {
      "cell_type": "code",
      "execution_count": 16,
      "metadata": {
        "id": "kgttcXviIfcw",
        "colab": {
          "base_uri": "https://localhost:8080/",
          "height": 513
        },
        "outputId": "8f685b0f-1f76-4f47-bcae-30901d305fe2"
      },
      "outputs": [
        {
          "output_type": "display_data",
          "data": {
            "text/plain": [
              "<Figure size 720x576 with 1 Axes>"
            ],
            "image/png": "[encoded data removed]"
          },
          "metadata": {
            "needs_background": "light"
          }
        }
      ],
      "source": [
        "plt.title('Loss curves')\n",
        "plt.plot(solver.train_loss_history, '-', label='train')\n",
        "plt.plot(solver.val_loss_history, '-', label='val')\n",
        "plt.legend(loc='lower right')\n",
        "plt.xlabel('Iteration')\n",
        "plt.show()"
      ]
    },
    {
      "cell_type": "code",
      "execution_count": 17,
      "metadata": {
        "id": "n6YT7r21Ifcw",
        "colab": {
          "base_uri": "https://localhost:8080/"
        },
        "outputId": "a70f8d71-1419-483e-e71c-ac8cac69864b"
      },
      "outputs": [
        {
          "output_type": "stream",
          "name": "stdout",
          "text": [
            "Training accuray: 1.00000\n",
            "Validation accuray: 0.06000\n"
          ]
        }
      ],
      "source": [
        "print(\"Training accuray: %.5f\" % (solver.get_dataset_accuracy(dataloaders['train_overfit_10samples'])))\n",
        "print(\"Validation accuray: %.5f\" % (solver.get_dataset_accuracy(dataloaders['val_500files'])))"
      ]
    },
    {
      "cell_type": "markdown",
      "metadata": {
        "id": "G7H5fOOcIfcw"
      },
      "source": [
        "If you're overfitting the training data, that means the network's implementation is correct. However, as you have more samples to overfit, your accuracy will be way lower. You can increase the number of epochs above to achieve better results.\n",
        "\n",
        "Now let's try to feed all the training and validation data into the network, but this time we set the same hyperparameters for 2-layer and 5-layer networks, and compare the different behaviors.\n",
        "\n",
        "<div class=\"alert alert-warning\">\n",
        "    <h3>Note:</h3>\n",
        "    <p>This may take about 1 min for each epoch as the training set is quite large. For convenience, we only train on 1000 images for now but use the full validation set.</p>\n",
        "</div>"
      ]
    },
    {
      "cell_type": "code",
      "execution_count": 25,
      "metadata": {
        "id": "ayC6U4CRIfcw",
        "colab": {
          "base_uri": "https://localhost:8080/"
        },
        "outputId": "15164f7e-0ba1-46fd-a4b2-0b9af054506a"
      },
      "outputs": [
        {
          "output_type": "stream",
          "name": "stdout",
          "text": [
            "(Epoch 1 / 5) train loss: 2.333482; val loss: 2.333447\n",
            "(Epoch 2 / 5) train loss: 2.345281; val loss: 2.344093\n",
            "(Epoch 3 / 5) train loss: 2.344586; val loss: 2.322153\n",
            "(Epoch 4 / 5) train loss: 2.361761; val loss: 2.319420\n",
            "(Epoch 5 / 5) train loss: 2.350661; val loss: 2.344303\n"
          ]
        }
      ],
      "source": [
        "from exercise_code.networks import MyOwnNetwork\n",
        "\n",
        "num_layer = 2\n",
        "epochs = 5\n",
        "reg = 0.1\n",
        "\n",
        "# Make a new data loader with 1000 training samples\n",
        "num_samples = 1000\n",
        "overfit_dataset = ImageFolderDataset(\n",
        "    mode='train',\n",
        "    root=cifar_root, \n",
        "    download_url=download_url,\n",
        "    transform=compose_transform,\n",
        "    limit_files=num_samples\n",
        ")\n",
        "dataloaders['train_small'] = DataLoader(\n",
        "    dataset=overfit_dataset,\n",
        "    batch_size=batch_size,\n",
        "    shuffle=True,\n",
        "    drop_last=False,\n",
        ")\n",
        "\n",
        "\n",
        "# Change here if you want to use the full training set\n",
        "use_full_training_set = False\n",
        "if not use_full_training_set:\n",
        "    train_loader = dataloaders['train_small']\n",
        "else:\n",
        "    train_loader = dataloaders['train']\n",
        "    \n",
        "\n",
        "model = ClassificationNet(num_layer=num_layer, reg=reg)\n",
        "# model = MyOwnNetwork()\n",
        "\n",
        "loss = CrossEntropyFromLogits()\n",
        "\n",
        "solver = Solver(model, train_loader, dataloaders['val'], \n",
        "                learning_rate=1e-3, loss_func=loss, optimizer=Adam)\n",
        "\n",
        "solver.train(epochs=epochs)"
      ]
    },
    {
      "cell_type": "code",
      "execution_count": 26,
      "metadata": {
        "id": "R0J7KcA4Ifcx",
        "colab": {
          "base_uri": "https://localhost:8080/",
          "height": 513
        },
        "outputId": "f23266b3-87fd-4d78-8d96-5b595edca0ef"
      },
      "outputs": [
        {
          "output_type": "display_data",
          "data": {
            "text/plain": [
              "<Figure size 720x576 with 1 Axes>"
            ],
            "image/png": "[encoded data removed]"
          },
          "metadata": {
            "needs_background": "light"
          }
        }
      ],
      "source": [
        "plt.title('Loss curves')\n",
        "plt.plot(solver.train_loss_history, '-', label='train')\n",
        "plt.plot(solver.val_loss_history, '-', label='val')\n",
        "plt.legend(loc='lower right')\n",
        "plt.xlabel('Iteration')\n",
        "plt.show()"
      ]
    },
    {
      "cell_type": "code",
      "execution_count": 27,
      "metadata": {
        "id": "sgbOO4JhIfcx",
        "colab": {
          "base_uri": "https://localhost:8080/"
        },
        "outputId": "9179729d-70dc-4e6e-a72b-c54f105a900e"
      },
      "outputs": [
        {
          "output_type": "stream",
          "name": "stdout",
          "text": [
            "Training accuray: 0.19100\n",
            "Validation accuray: 0.18750\n"
          ]
        }
      ],
      "source": [
        "print(\"Training accuray: %.5f\" % (solver.get_dataset_accuracy(train_loader)))\n",
        "print(\"Validation accuray: %.5f\" % (solver.get_dataset_accuracy(dataloaders['val'])))"
      ]
    },
    {
      "cell_type": "code",
      "execution_count": 28,
      "metadata": {
        "id": "vovM25VZIfcx",
        "colab": {
          "base_uri": "https://localhost:8080/"
        },
        "outputId": "9fe88ee1-4256-4ab3-e666-8ee7202ed26f"
      },
      "outputs": [
        {
          "output_type": "stream",
          "name": "stdout",
          "text": [
            "(Epoch 1 / 5) train loss: 2.305912; val loss: 2.305979\n",
            "(Epoch 2 / 5) train loss: 2.327428; val loss: 2.308302\n",
            "(Epoch 3 / 5) train loss: 2.318951; val loss: 2.320646\n",
            "(Epoch 4 / 5) train loss: 2.313579; val loss: 2.323224\n",
            "(Epoch 5 / 5) train loss: 2.318441; val loss: 2.314183\n"
          ]
        }
      ],
      "source": [
        "from exercise_code.networks import MyOwnNetwork\n",
        "\n",
        "num_layer = 5\n",
        "epochs = 5\n",
        "reg = 0.01\n",
        "\n",
        "model = ClassificationNet(num_layer=num_layer, reg=reg)\n",
        "# model = MyOwnNetwork()\n",
        "\n",
        "# Change here if you want to use the full training set\n",
        "use_full_training_set = False\n",
        "if not use_full_training_set:\n",
        "    train_loader = dataloaders['train_small']\n",
        "else:\n",
        "    train_loader = dataloaders['train']\n",
        "\n",
        "loss = CrossEntropyFromLogits()\n",
        "\n",
        "solver = Solver(model, train_loader, dataloaders['val'], \n",
        "                learning_rate=1e-3, loss_func=loss, optimizer=Adam)\n",
        "\n",
        "solver.train(epochs=epochs)"
      ]
    },
    {
      "cell_type": "code",
      "execution_count": 29,
      "metadata": {
        "id": "ldY-ixZpIfcx",
        "colab": {
          "base_uri": "https://localhost:8080/",
          "height": 513
        },
        "outputId": "df8dfee9-b885-4834-8ffc-3ae564d6acfe"
      },
      "outputs": [
        {
          "output_type": "display_data",
          "data": {
            "text/plain": [
              "<Figure size 720x576 with 1 Axes>"
            ],
            "image/png": "[encoded data removed]"
          },
          "metadata": {
            "needs_background": "light"
          }
        }
      ],
      "source": [
        "plt.title('Loss curves')\n",
        "plt.plot(solver.train_loss_history, '-', label='train')\n",
        "plt.plot(solver.val_loss_history, '-', label='val')\n",
        "plt.legend(loc='lower right')\n",
        "plt.xlabel('Iteration')\n",
        "plt.show()"
      ]
    },
    {
      "cell_type": "code",
      "execution_count": 30,
      "metadata": {
        "id": "AJ7uzb2BIfcx",
        "colab": {
          "base_uri": "https://localhost:8080/"
        },
        "outputId": "e36b46a1-9f22-4502-96aa-51c215bb17e5"
      },
      "outputs": [
        {
          "output_type": "stream",
          "name": "stdout",
          "text": [
            "Training accuray: 0.10500\n",
            "Validation accuray: 0.09826\n"
          ]
        }
      ],
      "source": [
        "print(\"Training accuray: %.5f\" % (solver.get_dataset_accuracy(train_loader)))\n",
        "print(\"Validation accuray: %.5f\" % (solver.get_dataset_accuracy(dataloaders['val'])))"
      ]
    },
    {
      "cell_type": "markdown",
      "metadata": {
        "id": "WbntUFFeIfcx"
      },
      "source": [
        "As you can see from above, the same hyperparameter set can decrease the loss for a 2-layer network, but for 5-layer network, it hardly works.\n",
        "\n",
        "The steps above are already mentioned in the lectures as debugging steps before training a neural network. \n",
        "\n",
        "If you implement your own network, make sure you do the steps above before tuning the hyperparameters as below. "
      ]
    },
    {
      "cell_type": "markdown",
      "metadata": {
        "id": "v8bY432bIfcx"
      },
      "source": [
        "## 2.2 Difficulty in tuning hyperparameters\n",
        "As can be seen through the results of training a larger network, training with whole data doesn't fit the training data as well as training with small number of training data. Besides, the architecture of neural network makes a difference, too. Small decisions on hyperparameters count. \n",
        "\n",
        "Usually, but not always, hyperparameters cannot be learned using well known gradient based methods (such as gradient descent), which are commonly employed to learn parameters. Besides, some hyperparameters can affect the structure of the model and the loss function.\n",
        "\n",
        "As mentioned before, hyperparameters need to be set before training. Tuning hyperparameters is hard, because you always have to try different combinations of the hyperparameters, train the network, do the validation and pick the best one. Besides, it is not guaranteed that you'll find the best combination.\n",
        "\n",
        "Next you will do hands on learning with hyperparameter tuning methods that are covered in lectures."
      ]
    },
    {
      "cell_type": "markdown",
      "metadata": {
        "id": "_KK5dLM7Ifcx"
      },
      "source": [
        "# 3. Hyperparameter Tuning\n",
        "\n",
        "![alt text](https://blog.floydhub.com/content/images/2018/08/Screen-Shot-2018-08-22-at-17.59.25.png \"\")\n",
        "\n",
        "One of the main challenges in deep learning is finding the set of hyperparameters that performs best.\n",
        "\n",
        "So far, we have followed a manual approach by guessing hyperparameters, running the model, observing the result and maybe tweaking the hyperparameters based on this result. As you have probably noticed, this manual hyperparameter tuning is unstructured, inefficient and can become very tedious.\n",
        "\n",
        "\n",
        "A more systematic (and actually very simple) approach for hyperparameter tuning that you've already learned in the lecture  is implementing a **Grid Search**. \n",
        "\n",
        "\n",
        "\n",
        "## 3.1 Grid Search\n",
        "Grid search is a simple and naive, yet effective method to automate the hyperparameter tuning:\n",
        "\n",
        "* First, you define the set of parameters you want to tune, e.g. $\\{learning\\_rate, regularization\\_strength\\}$.\n",
        "\n",
        "* For each hyperparameter, you then define a set of possible values, e.g. $learning\\_rate = \\{0.0001, 0.001, 0.01, 0.1\\}$.\n",
        "\n",
        "* Then, you train a model for every possible combination of these hyperparameter values and afterwards select the combination that works best (e.g. in terms of accuracy on your validation set).\n",
        "\n",
        "<div class=\"alert alert-success\">\n",
        "    <h3>Task: Check Code</h3>\n",
        "    <p>Check out our <code>grid_search</code> implementation in <code>../exercise_6/exercise_code/hyperparameter_tuning.py</code>. We show a simple for loop implementation and a more sophisticated one for multiple inputs. </p>\n",
        "</div>\n",
        " \n",
        " <div class=\"alert alert-warning\">\n",
        "    <h3>Note:</h3>\n",
        "    <p>To keep things simple for the beginning, it'll be enough to just focus on the hyperparameters <code>learning_rate</code> and <code>regularization_strength</code> here, as in the example above.</p>\n",
        "</div>"
      ]
    },
    {
      "cell_type": "code",
      "execution_count": 19,
      "metadata": {
        "id": "59RDKA7yIfcy",
        "colab": {
          "base_uri": "https://localhost:8080/"
        },
        "outputId": "24f0b764-86ee-49ca-e540-acc519db6a36"
      },
      "outputs": [
        {
          "output_type": "stream",
          "name": "stdout",
          "text": [
            "\n",
            "Evaluating Config #1 [of 3]:\n",
            " {'learning_rate': 0.01, 'reg': 0.0001}\n",
            "(Epoch 1 / 10) train loss: 2.302902; val loss: 2.302898\n",
            "(Epoch 2 / 10) train loss: 2.494476; val loss: 2.430626\n",
            "(Epoch 3 / 10) train loss: 2.769052; val loss: 2.953669\n",
            "(Epoch 4 / 10) train loss: 2.955507; val loss: 3.000784\n",
            "(Epoch 5 / 10) train loss: 3.023679; val loss: 3.173906\n",
            "(Epoch 6 / 10) train loss: 3.164847; val loss: 3.111210\n",
            "Stopping early at epoch 5!\n",
            "\n",
            "Evaluating Config #2 [of 3]:\n",
            " {'learning_rate': 0.001, 'reg': 0.0001}\n",
            "(Epoch 1 / 10) train loss: 2.302824; val loss: 2.302086\n",
            "(Epoch 2 / 10) train loss: 2.190905; val loss: 2.008723\n",
            "(Epoch 3 / 10) train loss: 2.015936; val loss: 1.932576\n",
            "(Epoch 4 / 10) train loss: 1.908476; val loss: 1.866964\n",
            "(Epoch 5 / 10) train loss: 1.838722; val loss: 1.917054\n",
            "(Epoch 6 / 10) train loss: 1.783005; val loss: 1.900819\n",
            "(Epoch 7 / 10) train loss: 1.714512; val loss: 1.876951\n",
            "(Epoch 8 / 10) train loss: 1.655684; val loss: 1.943942\n",
            "(Epoch 9 / 10) train loss: 1.602486; val loss: 1.959435\n",
            "Stopping early at epoch 8!\n",
            "\n",
            "Evaluating Config #3 [of 3]:\n",
            " {'learning_rate': 0.0001, 'reg': 0.0001}\n",
            "(Epoch 1 / 10) train loss: 2.302629; val loss: 2.302544\n",
            "(Epoch 2 / 10) train loss: 2.287105; val loss: 2.242099\n",
            "(Epoch 3 / 10) train loss: 2.214862; val loss: 2.148244\n",
            "(Epoch 4 / 10) train loss: 2.136578; val loss: 2.085468\n",
            "(Epoch 5 / 10) train loss: 2.074167; val loss: 2.031523\n",
            "(Epoch 6 / 10) train loss: 2.025011; val loss: 2.000437\n",
            "(Epoch 7 / 10) train loss: 1.982468; val loss: 1.973230\n",
            "(Epoch 8 / 10) train loss: 1.944591; val loss: 1.946484\n",
            "(Epoch 9 / 10) train loss: 1.907999; val loss: 1.933406\n",
            "(Epoch 10 / 10) train loss: 1.874427; val loss: 1.913936\n",
            "\n",
            "Search done. Best Val Loss = 1.8669638823086536\n",
            "Best Config: {'learning_rate': 0.001, 'reg': 0.0001}\n"
          ]
        }
      ],
      "source": [
        "from exercise_code.networks import MyOwnNetwork\n",
        "\n",
        "# Specify the used network\n",
        "model_class = ClassificationNet\n",
        "\n",
        "from exercise_code import hyperparameter_tuning\n",
        "best_model, results = hyperparameter_tuning.grid_search(\n",
        "    dataloaders['train_small'], dataloaders['val_500files'],\n",
        "    grid_search_spaces = {\n",
        "        \"learning_rate\": [1e-2, 1e-3, 1e-4], \n",
        "        \"reg\": [1e-4]\n",
        "    },\n",
        "    model_class=model_class,\n",
        "    epochs=10, patience=5)"
      ]
    },
    {
      "cell_type": "markdown",
      "metadata": {
        "id": "u3Ny3M0rIfcy"
      },
      "source": [
        "From the results of your grid search, you might already have found some hyperparameter combinations that work better than others. A common practice is to now repeat the grid search on a more narrow domain centered around the parameters that worked best. \n",
        "\n",
        "**Conclusion Grid Search**\n",
        "\n",
        "With grid search we now have automated the hyperparameter tuning to a certain degree. Another advantage is, that since the training of all models are independent of each other, you can parallelize the grid search, i.e.,  try out different hyperparameter configurations in parallel on different machines.\n",
        "\n",
        "However, as you have probably noticed, there is one big problem with this approach: the number of possible combinations to try out grows exponentially with the number of hyperparameters (\"curse of dimensionality\"). As we add more hyperparameters to the grid search, the search space will explode in time complexity, making this strategy unfeasible."
      ]
    },
    {
      "cell_type": "markdown",
      "metadata": {
        "id": "3f-6t7GRIfcy"
      },
      "source": [
        "Especially when your search space contains more than 3 or 4 dimensions, it is often better to use another, similar hyperparameter tuning method that you've already learned about: random search."
      ]
    },
    {
      "cell_type": "markdown",
      "metadata": {
        "id": "0z9c0S-WIfcy"
      },
      "source": [
        "## 3.2 Random Search\n",
        "Random search is very similar to grid search, with the only difference, that instead of providing specific values for every hyperparameter, you only define a range for each hyperparameter - then, the values are sampled randomly from the provided ranges.\n",
        "\n",
        "![alt text](https://i.stack.imgur.com/cIDuR.png \"\")\n",
        "\n",
        "The figure above illustrates the difference in the hyperparameter space exploration between grid search and random search: assume you have 2 hyperparameters with each 3 values. Running a grid search results in training $3^2=9$ different models - but in the end, you've just tired out 3 values for each parameter. For random search on the other hand, after training 9 models you'll have tried out 9 different values for each hyperparameter, which often leads much faster to good results.\n",
        "\n",
        "To get a deeper understanding of random search and why it is more efficient than grid search, you should definitely check out this paper: http://www.jmlr.org/papers/volume13/bergstra12a/bergstra12a.pdf\n",
        "\n",
        "<div class=\"alert alert-success\">\n",
        "    <h3>Task: Check Code</h3>\n",
        "    <p>Check out our <code>random_search</code> implementation in <code>../exercise_6/exercise_code/hyperparameter_tuning.py</code></p>\n",
        "</div>\n",
        "\n",
        "\n",
        "*Hint: regarding the sample space of each parameter, think about the scale for which it makes most sense to sample in. For example the learning rate is usually sampled on a logarithmic scale!*\n",
        "\n",
        "*For simplicity and speed, just use the `train_batches`-dataloader!*"
      ]
    },
    {
      "cell_type": "code",
      "execution_count": 20,
      "metadata": {
        "id": "Xf69z-LvIfcy",
        "colab": {
          "base_uri": "https://localhost:8080/"
        },
        "outputId": "2cc18b0a-906d-40a1-aab6-a66b5e80f136"
      },
      "outputs": [
        {
          "output_type": "stream",
          "name": "stdout",
          "text": [
            "\n",
            "Evaluating Config #1 [of 1]:\n",
            " {'learning_rate': 2.7355705727419664e-05, 'reg': 2.502629348297312e-07, 'loss_func': <exercise_code.networks.loss.CrossEntropyFromLogits object at 0x7fb69d8f3050>}\n",
            "(Epoch 1 / 20) train loss: 2.302595; val loss: 2.303150\n",
            "(Epoch 2 / 20) train loss: 2.300379; val loss: 2.295431\n",
            "(Epoch 3 / 20) train loss: 2.287743; val loss: 2.277083\n",
            "(Epoch 4 / 20) train loss: 2.267002; val loss: 2.250228\n",
            "(Epoch 5 / 20) train loss: 2.243209; val loss: 2.222781\n",
            "(Epoch 6 / 20) train loss: 2.218597; val loss: 2.196140\n",
            "(Epoch 7 / 20) train loss: 2.194613; val loss: 2.171405\n",
            "(Epoch 8 / 20) train loss: 2.171220; val loss: 2.150114\n",
            "(Epoch 9 / 20) train loss: 2.149461; val loss: 2.128961\n",
            "(Epoch 10 / 20) train loss: 2.129219; val loss: 2.110907\n",
            "(Epoch 11 / 20) train loss: 2.109830; val loss: 2.095301\n",
            "(Epoch 12 / 20) train loss: 2.091963; val loss: 2.080165\n",
            "(Epoch 13 / 20) train loss: 2.075213; val loss: 2.068285\n",
            "(Epoch 14 / 20) train loss: 2.059826; val loss: 2.055019\n",
            "(Epoch 15 / 20) train loss: 2.044620; val loss: 2.043054\n",
            "(Epoch 16 / 20) train loss: 2.030736; val loss: 2.032409\n",
            "(Epoch 17 / 20) train loss: 2.016977; val loss: 2.022439\n",
            "(Epoch 18 / 20) train loss: 2.004222; val loss: 2.012774\n",
            "(Epoch 19 / 20) train loss: 1.991596; val loss: 2.003292\n",
            "(Epoch 20 / 20) train loss: 1.979293; val loss: 1.993291\n",
            "\n",
            "Search done. Best Val Loss = 1.9932908025254132\n",
            "Best Config: {'learning_rate': 2.7355705727419664e-05, 'reg': 2.502629348297312e-07, 'loss_func': <exercise_code.networks.loss.CrossEntropyFromLogits object at 0x7fb69d8f3050>}\n"
          ]
        }
      ],
      "source": [
        "from exercise_code.hyperparameter_tuning import random_search\n",
        "from exercise_code.networks import MyOwnNetwork\n",
        "\n",
        "# Specify the used network\n",
        "model_class = ClassificationNet\n",
        "\n",
        "best_model, results = random_search(\n",
        "    dataloaders['train_small'], dataloaders['val_500files'],\n",
        "    random_search_spaces = {\n",
        "        \"learning_rate\": ([1e-2, 1e-6], 'log'),\n",
        "        \"reg\": ([1e-3, 1e-7], \"log\"),\n",
        "        \"loss_func\": ([CrossEntropyFromLogits()], \"item\")\n",
        "    },\n",
        "    model_class=model_class,\n",
        "    num_search = 1, epochs=20, patience=5)"
      ]
    },
    {
      "cell_type": "markdown",
      "metadata": {
        "id": "vIRFQEyRIfcz"
      },
      "source": [
        "It's time to run it with the whole dataset, and let it search for a few hours for a nice configuration. \n",
        "\n",
        "However, to save some time, let's first implement an **early-stopping** mechanism, that you also already know from the lecture."
      ]
    },
    {
      "cell_type": "markdown",
      "metadata": {
        "id": "38LUktavIfcz"
      },
      "source": [
        "## 3.3 Early Stopping"
      ]
    },
    {
      "cell_type": "markdown",
      "metadata": {
        "id": "fZ3_46j7Ifcz"
      },
      "source": [
        "By now you've already seen a lot of training curves:\n",
        "\n",
        "<img src=http://fouryears.eu/wp-content/uploads/2017/12/early_stopping.png></img>\n",
        "\n",
        "Usually, at some point the validation loss goes up again, which is a sign that we're overfitting to our training data. Since it actually doesn't make any sense to train further at this point, it's common practice to apply \"early stopping\", i.e., cancel the training process when the validation loss doesn't improve anymore. The nice thing about this concept is, that not only it improves generalization through the prevention of overfitting, but also it saves us a lot of time - one of our most valuable resources in deep learning.\n",
        "\n",
        "Since there are natural fluctuations in the validation loss, you usually don't cancel the training process right at the first epoch when the validation-loss increases, but instead, you wait for some epochs (specified by the `patience`-parameter) and if the loss still doesn't improve, we stop.\n",
        "\n",
        "<div class=\"alert alert-success\">\n",
        "    <h3>Task: Check Code</h3>\n",
        "    <p>Please check the implementation of the early stopping mechanism in <code>../exercise_6/exercise_code/solver.py</code>.\n",
        " </p>\n",
        "</div>"
      ]
    },
    {
      "cell_type": "markdown",
      "metadata": {
        "id": "xhK33fH7Ifcz"
      },
      "source": [
        "## 3.4 Let's find the perfect model!"
      ]
    },
    {
      "cell_type": "markdown",
      "metadata": {
        "id": "H10EaQJSIfcz"
      },
      "source": [
        "You've now set everything up to start training your model and finding a nice set of hyper parameters using a combination of grid or random search!\n",
        "\n",
        "Since we'll now be training with a much larger number of samples, you should be aware that this process will definitely take some time! So be prepared to let your machine run for a while. \n",
        "\n",
        "At the beginning, it's a good approach to first do a coarse random search across a wide range of values to find promising sub-ranges of your parameter space. Afterwards, you can zoom in to these ranges and do another random search (or grid search) to finetune the configuration.\n",
        "\n",
        "You don't have to use the whole dataset at the beginning, instead you can also use a medium large subset of the samples. Also, you don't need to train for a large number of epochs - as mentioned above: we first want to get an overview about our hyper parameters.\n",
        "\n",
        "<div class=\"alert alert-info\">\n",
        "    <h3>Task: Hyperparameters Tunning & Model Training </h3>\n",
        "        <p> Now, it is your turn to do the hyperparamater tuning. In the cell below, you can use the <code>random_search</code> function to find a good choice of parameters. Put in some reasonable ranges for the hyperparameters and evaluate them.\n",
        "    <p> <b>Note:</b> At the beginning, it's a good approach to first do a coarse random search across a <b> wide range of values</b> to find promising sub-ranges of your parameter space and use <b> a medium large subset of the dataset </b>instead the whole as well. Afterwards, you can zoom in to these ranges and do another random search (or grid search) to finetune the configuration. Use the cell below to play around and find good hyperparameters for your model!</p>\n",
        "        <p> Finally, once you've found some promising hyperparameters (or narrowed them down to promising subranges), it's time to utilize these hyperparameters to train your network on the whole dataset for a large number of epochs so that your own model can reach an acceptable performance. \n",
        "        <p> <b>Hint:</b> You may use a <code>Solver</code> class we provided before or directly use the <code>random_search</code> function (as you can also monitor the loss here) for model training.\n",
        "</div>"
      ]
    },
    {
      "cell_type": "code",
      "source": [
        "model_class = ClassificationNet\n",
        "\n",
        "best_model, results = random_search(\n",
        "    dataloaders['train_small'], dataloaders['val_500files'],\n",
        "    random_search_spaces = {\n",
        "        \"learning_rate\": ([1e-3, 1e-5], 'log'),\n",
        "        \"reg\": ([1e-4, 1e-5], \"log\"),\n",
        "        \"hidden_size\": ([150, 400], \"int\"),\n",
        "        \"num_layer\": ([2, 3], \"int\"),\n",
        "        \"activation\": ([Relu(), LeakyRelu()], \"item\"),\n",
        "        \"loss_func\": ([CrossEntropyFromLogits()], \"item\")\n",
        "    },\n",
        "    model_class=model_class,\n",
        "    num_search = 10, epochs=10, patience=3)"
      ],
      "metadata": {
        "id": "Yj_exRkB3w_q",
        "colab": {
          "base_uri": "https://localhost:8080/"
        },
        "outputId": "df0887af-31f9-40d2-e3a9-9f15f9fbd5ac"
      },
      "execution_count": 35,
      "outputs": [
        {
          "output_type": "stream",
          "name": "stdout",
          "text": [
            "\n",
            "Evaluating Config #1 [of 10]:\n",
            " {'learning_rate': 0.0009673048327291277, 'reg': 4.4343673564335945e-05, 'hidden_size': 393, 'num_layer': 3, 'activation': <exercise_code.networks.layer.Relu object at 0x7fb69dad3610>, 'loss_func': <exercise_code.networks.loss.CrossEntropyFromLogits object at 0x7fb69dad3e50>}\n",
            "(Epoch 1 / 10) train loss: 2.302646; val loss: 2.302647\n",
            "(Epoch 2 / 10) train loss: 2.219681; val loss: 2.091704\n",
            "(Epoch 3 / 10) train loss: 2.016238; val loss: 1.832987\n",
            "(Epoch 4 / 10) train loss: 1.868038; val loss: 1.865036\n",
            "(Epoch 5 / 10) train loss: 1.728676; val loss: 1.891391\n",
            "(Epoch 6 / 10) train loss: 1.582818; val loss: 1.949197\n",
            "Stopping early at epoch 5!\n",
            "\n",
            "Evaluating Config #2 [of 10]:\n",
            " {'learning_rate': 0.00027192007048010427, 'reg': 1.1229712785079966e-05, 'hidden_size': 204, 'num_layer': 3, 'activation': <exercise_code.networks.layer.LeakyRelu object at 0x7fb69dad3e90>, 'loss_func': <exercise_code.networks.loss.CrossEntropyFromLogits object at 0x7fb69dad3e50>}\n",
            "(Epoch 1 / 10) train loss: 2.302592; val loss: 2.302593\n",
            "(Epoch 2 / 10) train loss: 2.229474; val loss: 2.075748\n",
            "(Epoch 3 / 10) train loss: 2.029499; val loss: 1.905815\n",
            "(Epoch 4 / 10) train loss: 1.838335; val loss: 1.910145\n",
            "(Epoch 5 / 10) train loss: 1.705822; val loss: 1.805825\n",
            "(Epoch 6 / 10) train loss: 1.561411; val loss: 1.959307\n",
            "(Epoch 7 / 10) train loss: 1.446003; val loss: 1.912967\n",
            "(Epoch 8 / 10) train loss: 1.287507; val loss: 2.041348\n",
            "Stopping early at epoch 7!\n",
            "\n",
            "Evaluating Config #3 [of 10]:\n",
            " {'learning_rate': 6.522704284810877e-05, 'reg': 1.0505456404728643e-05, 'hidden_size': 318, 'num_layer': 3, 'activation': <exercise_code.networks.layer.LeakyRelu object at 0x7fb69dad3e90>, 'loss_func': <exercise_code.networks.loss.CrossEntropyFromLogits object at 0x7fb69dad3e50>}\n",
            "(Epoch 1 / 10) train loss: 2.302597; val loss: 2.302597\n",
            "(Epoch 2 / 10) train loss: 2.274350; val loss: 2.100044\n",
            "(Epoch 3 / 10) train loss: 2.113666; val loss: 2.049114\n",
            "(Epoch 4 / 10) train loss: 2.034335; val loss: 1.970989\n",
            "(Epoch 5 / 10) train loss: 1.924854; val loss: 1.884558\n",
            "(Epoch 6 / 10) train loss: 1.829856; val loss: 1.894946\n",
            "(Epoch 7 / 10) train loss: 1.757825; val loss: 1.883947\n",
            "(Epoch 8 / 10) train loss: 1.693246; val loss: 1.925347\n",
            "(Epoch 9 / 10) train loss: 1.642449; val loss: 1.849934\n",
            "(Epoch 10 / 10) train loss: 1.573672; val loss: 1.889479\n",
            "\n",
            "Evaluating Config #4 [of 10]:\n",
            " {'learning_rate': 7.782263826736876e-05, 'reg': 2.432841532893861e-05, 'hidden_size': 338, 'num_layer': 2, 'activation': <exercise_code.networks.layer.LeakyRelu object at 0x7fb69dad3e90>, 'loss_func': <exercise_code.networks.loss.CrossEntropyFromLogits object at 0x7fb69dad3e50>}\n",
            "(Epoch 1 / 10) train loss: 2.302599; val loss: 2.302631\n",
            "(Epoch 2 / 10) train loss: 2.163012; val loss: 1.924764\n",
            "(Epoch 3 / 10) train loss: 1.904908; val loss: 1.815659\n",
            "(Epoch 4 / 10) train loss: 1.764926; val loss: 1.781691\n",
            "(Epoch 5 / 10) train loss: 1.666523; val loss: 1.774314\n",
            "(Epoch 6 / 10) train loss: 1.563488; val loss: 1.797904\n",
            "(Epoch 7 / 10) train loss: 1.474435; val loss: 1.786536\n",
            "(Epoch 8 / 10) train loss: 1.380815; val loss: 1.771736\n",
            "(Epoch 9 / 10) train loss: 1.283208; val loss: 1.757748\n",
            "(Epoch 10 / 10) train loss: 1.195052; val loss: 1.796879\n",
            "\n",
            "Evaluating Config #5 [of 10]:\n",
            " {'learning_rate': 1.1736961711596407e-05, 'reg': 3.242913750267874e-05, 'hidden_size': 349, 'num_layer': 2, 'activation': <exercise_code.networks.layer.Relu object at 0x7fb69dad3610>, 'loss_func': <exercise_code.networks.loss.CrossEntropyFromLogits object at 0x7fb69dad3e50>}\n",
            "(Epoch 1 / 10) train loss: 2.302603; val loss: 2.302576\n",
            "(Epoch 2 / 10) train loss: 2.287283; val loss: 2.249839\n",
            "(Epoch 3 / 10) train loss: 2.208759; val loss: 2.139004\n",
            "(Epoch 4 / 10) train loss: 2.117279; val loss: 2.056012\n",
            "(Epoch 5 / 10) train loss: 2.048319; val loss: 2.000192\n",
            "(Epoch 6 / 10) train loss: 1.993940; val loss: 1.961516\n",
            "(Epoch 7 / 10) train loss: 1.948941; val loss: 1.930933\n",
            "(Epoch 8 / 10) train loss: 1.909936; val loss: 1.905135\n",
            "(Epoch 9 / 10) train loss: 1.877075; val loss: 1.887020\n",
            "(Epoch 10 / 10) train loss: 1.848124; val loss: 1.872417\n",
            "\n",
            "Evaluating Config #6 [of 10]:\n",
            " {'learning_rate': 3.665184194208158e-05, 'reg': 1.1084446952413459e-05, 'hidden_size': 400, 'num_layer': 3, 'activation': <exercise_code.networks.layer.LeakyRelu object at 0x7fb69dad3e90>, 'loss_func': <exercise_code.networks.loss.CrossEntropyFromLogits object at 0x7fb69dad3e50>}\n",
            "(Epoch 1 / 10) train loss: 2.302600; val loss: 2.302600\n",
            "(Epoch 2 / 10) train loss: 2.297907; val loss: 2.218241\n",
            "(Epoch 3 / 10) train loss: 2.151900; val loss: 2.084014\n",
            "(Epoch 4 / 10) train loss: 2.070514; val loss: 2.025402\n",
            "(Epoch 5 / 10) train loss: 2.008955; val loss: 1.974875\n",
            "(Epoch 6 / 10) train loss: 1.934345; val loss: 1.911451\n",
            "(Epoch 7 / 10) train loss: 1.873016; val loss: 1.869031\n",
            "(Epoch 8 / 10) train loss: 1.816083; val loss: 1.886085\n",
            "(Epoch 9 / 10) train loss: 1.764151; val loss: 1.904571\n",
            "(Epoch 10 / 10) train loss: 1.714222; val loss: 1.843690\n",
            "\n",
            "Evaluating Config #7 [of 10]:\n",
            " {'learning_rate': 0.0009366205135133143, 'reg': 1.0553003872004085e-05, 'hidden_size': 255, 'num_layer': 3, 'activation': <exercise_code.networks.layer.Relu object at 0x7fb69dad3610>, 'loss_func': <exercise_code.networks.loss.CrossEntropyFromLogits object at 0x7fb69dad3e50>}\n",
            "(Epoch 1 / 10) train loss: 2.302593; val loss: 2.302593\n",
            "(Epoch 2 / 10) train loss: 2.219418; val loss: 2.142522\n",
            "(Epoch 3 / 10) train loss: 2.006018; val loss: 1.947322\n",
            "(Epoch 4 / 10) train loss: 1.846465; val loss: 1.839008\n",
            "(Epoch 5 / 10) train loss: 1.668092; val loss: 1.801986\n",
            "(Epoch 6 / 10) train loss: 1.526311; val loss: 1.941558\n",
            "(Epoch 7 / 10) train loss: 1.390177; val loss: 2.087212\n",
            "(Epoch 8 / 10) train loss: 1.286638; val loss: 2.164042\n",
            "Stopping early at epoch 7!\n",
            "\n",
            "Evaluating Config #8 [of 10]:\n",
            " {'learning_rate': 2.4242224200305262e-05, 'reg': 2.2743063081263048e-05, 'hidden_size': 206, 'num_layer': 3, 'activation': <exercise_code.networks.layer.Relu object at 0x7fb69dad3610>, 'loss_func': <exercise_code.networks.loss.CrossEntropyFromLogits object at 0x7fb69dad3e50>}\n",
            "(Epoch 1 / 10) train loss: 2.302600; val loss: 2.302600\n",
            "(Epoch 2 / 10) train loss: 2.302586; val loss: 2.302484\n",
            "(Epoch 3 / 10) train loss: 2.291644; val loss: 2.227061\n",
            "(Epoch 4 / 10) train loss: 2.180787; val loss: 2.101822\n",
            "(Epoch 5 / 10) train loss: 2.110255; val loss: 2.063671\n",
            "(Epoch 6 / 10) train loss: 2.077574; val loss: 2.058481\n",
            "(Epoch 7 / 10) train loss: 2.054027; val loss: 2.056666\n",
            "(Epoch 8 / 10) train loss: 2.034327; val loss: 2.025311\n",
            "(Epoch 9 / 10) train loss: 2.016012; val loss: 2.012617\n",
            "(Epoch 10 / 10) train loss: 1.992361; val loss: 1.987695\n",
            "\n",
            "Evaluating Config #9 [of 10]:\n",
            " {'learning_rate': 0.0002995931966321426, 'reg': 1.231380434220521e-05, 'hidden_size': 197, 'num_layer': 3, 'activation': <exercise_code.networks.layer.LeakyRelu object at 0x7fb69dad3e90>, 'loss_func': <exercise_code.networks.loss.CrossEntropyFromLogits object at 0x7fb69dad3e50>}\n",
            "(Epoch 1 / 10) train loss: 2.302593; val loss: 2.302592\n",
            "(Epoch 2 / 10) train loss: 2.205136; val loss: 1.967100\n",
            "(Epoch 3 / 10) train loss: 1.991482; val loss: 1.858607\n",
            "(Epoch 4 / 10) train loss: 1.825851; val loss: 1.769867\n",
            "(Epoch 5 / 10) train loss: 1.694151; val loss: 1.751086\n",
            "(Epoch 6 / 10) train loss: 1.567539; val loss: 1.743371\n",
            "(Epoch 7 / 10) train loss: 1.417674; val loss: 2.020781\n",
            "(Epoch 8 / 10) train loss: 1.303583; val loss: 2.105648\n",
            "(Epoch 9 / 10) train loss: 1.154824; val loss: 2.194023\n",
            "Stopping early at epoch 8!\n",
            "\n",
            "Evaluating Config #10 [of 10]:\n",
            " {'learning_rate': 0.00023270810374603442, 'reg': 9.554451511209273e-05, 'hidden_size': 260, 'num_layer': 2, 'activation': <exercise_code.networks.layer.Relu object at 0x7fb69dad3610>, 'loss_func': <exercise_code.networks.loss.CrossEntropyFromLogits object at 0x7fb69dad3e50>}\n",
            "(Epoch 1 / 10) train loss: 2.302674; val loss: 2.302611\n",
            "(Epoch 2 / 10) train loss: 2.086898; val loss: 1.869240\n",
            "(Epoch 3 / 10) train loss: 1.804227; val loss: 1.808238\n",
            "(Epoch 4 / 10) train loss: 1.616069; val loss: 1.861149\n",
            "(Epoch 5 / 10) train loss: 1.420064; val loss: 2.008153\n",
            "(Epoch 6 / 10) train loss: 1.242161; val loss: 1.866655\n",
            "Stopping early at epoch 5!\n",
            "\n",
            "Search done. Best Val Loss = 1.7433714395244564\n",
            "Best Config: {'learning_rate': 0.0002995931966321426, 'reg': 1.231380434220521e-05, 'hidden_size': 197, 'num_layer': 3, 'activation': <exercise_code.networks.layer.LeakyRelu object at 0x7fb69dad3e90>, 'loss_func': <exercise_code.networks.loss.CrossEntropyFromLogits object at 0x7fb69dad3e50>}\n"
          ]
        }
      ]
    },
    {
      "cell_type": "code",
      "source": [
        "model_class = ClassificationNet\n",
        "\n",
        "best_model, results = random_search(\n",
        "    dataloaders['train_small'], dataloaders['val_500files'],\n",
        "    random_search_spaces = {\n",
        "        \"learning_rate\": ([2e-5, 7e-5], 'log'),\n",
        "        \"reg\": ([1e-4, 1e-5], \"log\"),\n",
        "        \"hidden_size\": ([180, 220], \"int\"),\n",
        "        \"num_layer\": ([2], \"int\"),\n",
        "        \"activation\": ([Relu(), LeakyRelu()], \"item\"),\n",
        "        \"loss_func\": ([CrossEntropyFromLogits()], \"item\")\n",
        "    },\n",
        "    model_class=model_class,\n",
        "    num_search = 10, epochs=15, patience=3)"
      ],
      "metadata": {
        "colab": {
          "base_uri": "https://localhost:8080/"
        },
        "id": "ikSEv9Zv5iD5",
        "outputId": "003393e3-7665-4ba7-9351-d4a74b8dbc57"
      },
      "execution_count": 36,
      "outputs": [
        {
          "output_type": "stream",
          "name": "stdout",
          "text": [
            "\n",
            "Evaluating Config #1 [of 10]:\n",
            " {'learning_rate': 3.2665058422578386e-05, 'reg': 2.799190193266695e-05, 'hidden_size': 204, 'num_layer': 2, 'activation': <exercise_code.networks.layer.LeakyRelu object at 0x7fb69da8df50>, 'loss_func': <exercise_code.networks.loss.CrossEntropyFromLogits object at 0x7fb69da8d4d0>}\n",
            "(Epoch 1 / 15) train loss: 2.302597; val loss: 2.302535\n",
            "(Epoch 2 / 15) train loss: 2.248919; val loss: 2.116297\n",
            "(Epoch 3 / 15) train loss: 2.087006; val loss: 1.992723\n",
            "(Epoch 4 / 15) train loss: 1.980382; val loss: 1.920300\n",
            "(Epoch 5 / 15) train loss: 1.901481; val loss: 1.880554\n",
            "(Epoch 6 / 15) train loss: 1.843805; val loss: 1.853268\n",
            "(Epoch 7 / 15) train loss: 1.798476; val loss: 1.833189\n",
            "(Epoch 8 / 15) train loss: 1.758059; val loss: 1.826339\n",
            "(Epoch 9 / 15) train loss: 1.719513; val loss: 1.815185\n",
            "(Epoch 10 / 15) train loss: 1.687915; val loss: 1.794764\n",
            "(Epoch 11 / 15) train loss: 1.652158; val loss: 1.811517\n",
            "(Epoch 12 / 15) train loss: 1.618618; val loss: 1.791932\n",
            "(Epoch 13 / 15) train loss: 1.585040; val loss: 1.792212\n",
            "(Epoch 14 / 15) train loss: 1.554262; val loss: 1.791431\n",
            "(Epoch 15 / 15) train loss: 1.522435; val loss: 1.795168\n",
            "\n",
            "Evaluating Config #2 [of 10]:\n",
            " {'learning_rate': 3.938999698154919e-05, 'reg': 8.50936465993023e-05, 'hidden_size': 183, 'num_layer': 2, 'activation': <exercise_code.networks.layer.Relu object at 0x7fb69da8d190>, 'loss_func': <exercise_code.networks.loss.CrossEntropyFromLogits object at 0x7fb69da8d4d0>}\n",
            "(Epoch 1 / 15) train loss: 2.302626; val loss: 2.302683\n",
            "(Epoch 2 / 15) train loss: 2.241165; val loss: 2.096048\n",
            "(Epoch 3 / 15) train loss: 2.061449; val loss: 1.969280\n",
            "(Epoch 4 / 15) train loss: 1.942699; val loss: 1.900275\n",
            "(Epoch 5 / 15) train loss: 1.860811; val loss: 1.862611\n",
            "(Epoch 6 / 15) train loss: 1.805202; val loss: 1.830461\n",
            "(Epoch 7 / 15) train loss: 1.755938; val loss: 1.818635\n",
            "(Epoch 8 / 15) train loss: 1.714384; val loss: 1.816280\n",
            "(Epoch 9 / 15) train loss: 1.670714; val loss: 1.789364\n",
            "(Epoch 10 / 15) train loss: 1.633733; val loss: 1.805790\n",
            "(Epoch 11 / 15) train loss: 1.595642; val loss: 1.789571\n",
            "(Epoch 12 / 15) train loss: 1.558440; val loss: 1.788325\n",
            "(Epoch 13 / 15) train loss: 1.525171; val loss: 1.785469\n",
            "(Epoch 14 / 15) train loss: 1.488759; val loss: 1.790144\n",
            "(Epoch 15 / 15) train loss: 1.450130; val loss: 1.793532\n",
            "\n",
            "Evaluating Config #3 [of 10]:\n",
            " {'learning_rate': 6.03229711747361e-05, 'reg': 2.3663412674134123e-05, 'hidden_size': 214, 'num_layer': 2, 'activation': <exercise_code.networks.layer.Relu object at 0x7fb69da8d190>, 'loss_func': <exercise_code.networks.loss.CrossEntropyFromLogits object at 0x7fb69da8d4d0>}\n",
            "(Epoch 1 / 15) train loss: 2.302573; val loss: 2.302574\n",
            "(Epoch 2 / 15) train loss: 2.204910; val loss: 2.015499\n",
            "(Epoch 3 / 15) train loss: 1.976624; val loss: 1.877926\n",
            "(Epoch 4 / 15) train loss: 1.849718; val loss: 1.847858\n",
            "(Epoch 5 / 15) train loss: 1.765682; val loss: 1.816751\n",
            "(Epoch 6 / 15) train loss: 1.693069; val loss: 1.783736\n",
            "(Epoch 7 / 15) train loss: 1.627678; val loss: 1.789612\n",
            "(Epoch 8 / 15) train loss: 1.573614; val loss: 1.780286\n",
            "(Epoch 9 / 15) train loss: 1.512674; val loss: 1.738100\n",
            "(Epoch 10 / 15) train loss: 1.452273; val loss: 1.748141\n",
            "(Epoch 11 / 15) train loss: 1.396190; val loss: 1.784431\n",
            "(Epoch 12 / 15) train loss: 1.337767; val loss: 1.803801\n",
            "Stopping early at epoch 11!\n",
            "\n",
            "Evaluating Config #4 [of 10]:\n",
            " {'learning_rate': 4.280479445761713e-05, 'reg': 2.1274535264397824e-05, 'hidden_size': 203, 'num_layer': 2, 'activation': <exercise_code.networks.layer.Relu object at 0x7fb69da8d190>, 'loss_func': <exercise_code.networks.loss.CrossEntropyFromLogits object at 0x7fb69da8d4d0>}\n",
            "(Epoch 1 / 15) train loss: 2.302572; val loss: 2.302555\n",
            "(Epoch 2 / 15) train loss: 2.232676; val loss: 2.095485\n",
            "(Epoch 3 / 15) train loss: 2.048808; val loss: 1.946816\n",
            "(Epoch 4 / 15) train loss: 1.925549; val loss: 1.885720\n",
            "(Epoch 5 / 15) train loss: 1.844694; val loss: 1.841489\n",
            "(Epoch 6 / 15) train loss: 1.783991; val loss: 1.833918\n",
            "(Epoch 7 / 15) train loss: 1.731340; val loss: 1.819666\n",
            "(Epoch 8 / 15) train loss: 1.682534; val loss: 1.791857\n",
            "(Epoch 9 / 15) train loss: 1.640339; val loss: 1.790922\n",
            "(Epoch 10 / 15) train loss: 1.595965; val loss: 1.779654\n",
            "(Epoch 11 / 15) train loss: 1.553236; val loss: 1.794511\n",
            "(Epoch 12 / 15) train loss: 1.511762; val loss: 1.779920\n",
            "(Epoch 13 / 15) train loss: 1.471048; val loss: 1.765249\n",
            "(Epoch 14 / 15) train loss: 1.429418; val loss: 1.778011\n",
            "(Epoch 15 / 15) train loss: 1.385280; val loss: 1.797429\n",
            "\n",
            "Evaluating Config #5 [of 10]:\n",
            " {'learning_rate': 3.422370669282225e-05, 'reg': 2.286801273272711e-05, 'hidden_size': 194, 'num_layer': 2, 'activation': <exercise_code.networks.layer.Relu object at 0x7fb69da8d190>, 'loss_func': <exercise_code.networks.loss.CrossEntropyFromLogits object at 0x7fb69da8d4d0>}\n",
            "(Epoch 1 / 15) train loss: 2.302674; val loss: 2.302670\n",
            "(Epoch 2 / 15) train loss: 2.250022; val loss: 2.130560\n",
            "(Epoch 3 / 15) train loss: 2.089350; val loss: 1.986750\n",
            "(Epoch 4 / 15) train loss: 1.978002; val loss: 1.907136\n",
            "(Epoch 5 / 15) train loss: 1.898925; val loss: 1.874506\n",
            "(Epoch 6 / 15) train loss: 1.837554; val loss: 1.849473\n",
            "(Epoch 7 / 15) train loss: 1.794008; val loss: 1.830022\n",
            "(Epoch 8 / 15) train loss: 1.751317; val loss: 1.811571\n",
            "(Epoch 9 / 15) train loss: 1.711601; val loss: 1.790005\n",
            "(Epoch 10 / 15) train loss: 1.674611; val loss: 1.777150\n",
            "(Epoch 11 / 15) train loss: 1.640053; val loss: 1.775471\n",
            "(Epoch 12 / 15) train loss: 1.605262; val loss: 1.777047\n",
            "(Epoch 13 / 15) train loss: 1.571400; val loss: 1.766678\n",
            "(Epoch 14 / 15) train loss: 1.538771; val loss: 1.780689\n",
            "(Epoch 15 / 15) train loss: 1.507043; val loss: 1.762094\n",
            "\n",
            "Evaluating Config #6 [of 10]:\n",
            " {'learning_rate': 6.181805190935265e-05, 'reg': 6.190509968650488e-05, 'hidden_size': 187, 'num_layer': 2, 'activation': <exercise_code.networks.layer.Relu object at 0x7fb69da8d190>, 'loss_func': <exercise_code.networks.loss.CrossEntropyFromLogits object at 0x7fb69da8d4d0>}\n",
            "(Epoch 1 / 15) train loss: 2.302664; val loss: 2.302665\n",
            "(Epoch 2 / 15) train loss: 2.206677; val loss: 2.028726\n",
            "(Epoch 3 / 15) train loss: 1.984047; val loss: 1.904778\n",
            "(Epoch 4 / 15) train loss: 1.858612; val loss: 1.841494\n",
            "(Epoch 5 / 15) train loss: 1.778767; val loss: 1.812007\n",
            "(Epoch 6 / 15) train loss: 1.706814; val loss: 1.813083\n",
            "(Epoch 7 / 15) train loss: 1.647195; val loss: 1.805902\n",
            "(Epoch 8 / 15) train loss: 1.589183; val loss: 1.774161\n",
            "(Epoch 9 / 15) train loss: 1.536876; val loss: 1.773896\n",
            "(Epoch 10 / 15) train loss: 1.481225; val loss: 1.771566\n",
            "(Epoch 11 / 15) train loss: 1.427743; val loss: 1.798210\n",
            "(Epoch 12 / 15) train loss: 1.366614; val loss: 1.800341\n",
            "(Epoch 13 / 15) train loss: 1.316624; val loss: 1.802176\n",
            "Stopping early at epoch 12!\n",
            "\n",
            "Evaluating Config #7 [of 10]:\n",
            " {'learning_rate': 2.7719920322370972e-05, 'reg': 3.2077119415416626e-05, 'hidden_size': 192, 'num_layer': 2, 'activation': <exercise_code.networks.layer.Relu object at 0x7fb69da8d190>, 'loss_func': <exercise_code.networks.loss.CrossEntropyFromLogits object at 0x7fb69da8d4d0>}\n",
            "(Epoch 1 / 15) train loss: 2.302664; val loss: 2.302643\n",
            "(Epoch 2 / 15) train loss: 2.268932; val loss: 2.174551\n",
            "(Epoch 3 / 15) train loss: 2.124415; val loss: 2.019056\n",
            "(Epoch 4 / 15) train loss: 2.011903; val loss: 1.947402\n",
            "(Epoch 5 / 15) train loss: 1.934132; val loss: 1.898980\n",
            "(Epoch 6 / 15) train loss: 1.873798; val loss: 1.872936\n",
            "(Epoch 7 / 15) train loss: 1.829658; val loss: 1.852843\n",
            "(Epoch 8 / 15) train loss: 1.789603; val loss: 1.831541\n",
            "(Epoch 9 / 15) train loss: 1.755593; val loss: 1.832131\n",
            "(Epoch 10 / 15) train loss: 1.725623; val loss: 1.810318\n",
            "(Epoch 11 / 15) train loss: 1.694360; val loss: 1.792782\n",
            "(Epoch 12 / 15) train loss: 1.665378; val loss: 1.794493\n",
            "(Epoch 13 / 15) train loss: 1.640445; val loss: 1.795267\n",
            "(Epoch 14 / 15) train loss: 1.611991; val loss: 1.789116\n",
            "(Epoch 15 / 15) train loss: 1.584662; val loss: 1.795156\n",
            "\n",
            "Evaluating Config #8 [of 10]:\n",
            " {'learning_rate': 5.409546588582054e-05, 'reg': 8.065655512814535e-05, 'hidden_size': 193, 'num_layer': 2, 'activation': <exercise_code.networks.layer.LeakyRelu object at 0x7fb69da8df50>, 'loss_func': <exercise_code.networks.loss.CrossEntropyFromLogits object at 0x7fb69da8d4d0>}\n",
            "(Epoch 1 / 15) train loss: 2.302676; val loss: 2.302650\n",
            "(Epoch 2 / 15) train loss: 2.217345; val loss: 2.058716\n",
            "(Epoch 3 / 15) train loss: 2.018474; val loss: 1.932315\n",
            "(Epoch 4 / 15) train loss: 1.889188; val loss: 1.879109\n",
            "(Epoch 5 / 15) train loss: 1.802361; val loss: 1.827155\n",
            "(Epoch 6 / 15) train loss: 1.736583; val loss: 1.818490\n",
            "(Epoch 7 / 15) train loss: 1.676336; val loss: 1.804776\n",
            "(Epoch 8 / 15) train loss: 1.626338; val loss: 1.804503\n",
            "(Epoch 9 / 15) train loss: 1.575613; val loss: 1.792767\n",
            "(Epoch 10 / 15) train loss: 1.521234; val loss: 1.789478\n",
            "(Epoch 11 / 15) train loss: 1.471892; val loss: 1.791043\n",
            "(Epoch 12 / 15) train loss: 1.421170; val loss: 1.784028\n",
            "(Epoch 13 / 15) train loss: 1.371679; val loss: 1.786532\n",
            "(Epoch 14 / 15) train loss: 1.322214; val loss: 1.811367\n",
            "(Epoch 15 / 15) train loss: 1.268358; val loss: 1.787392\n",
            "Stopping early at epoch 14!\n",
            "\n",
            "Evaluating Config #9 [of 10]:\n",
            " {'learning_rate': 2.050666831454483e-05, 'reg': 9.095741580654103e-05, 'hidden_size': 209, 'num_layer': 2, 'activation': <exercise_code.networks.layer.LeakyRelu object at 0x7fb69da8df50>, 'loss_func': <exercise_code.networks.loss.CrossEntropyFromLogits object at 0x7fb69da8d4d0>}\n",
            "(Epoch 1 / 15) train loss: 2.302575; val loss: 2.302575\n",
            "(Epoch 2 / 15) train loss: 2.277405; val loss: 2.208241\n",
            "(Epoch 3 / 15) train loss: 2.155916; val loss: 2.066158\n",
            "(Epoch 4 / 15) train loss: 2.057987; val loss: 1.993947\n",
            "(Epoch 5 / 15) train loss: 1.985244; val loss: 1.944697\n",
            "(Epoch 6 / 15) train loss: 1.926878; val loss: 1.907718\n",
            "(Epoch 7 / 15) train loss: 1.881175; val loss: 1.882064\n",
            "(Epoch 8 / 15) train loss: 1.843600; val loss: 1.860347\n",
            "(Epoch 9 / 15) train loss: 1.810239; val loss: 1.851704\n",
            "(Epoch 10 / 15) train loss: 1.780036; val loss: 1.837669\n",
            "(Epoch 11 / 15) train loss: 1.754832; val loss: 1.823803\n",
            "(Epoch 12 / 15) train loss: 1.729302; val loss: 1.816704\n",
            "(Epoch 13 / 15) train loss: 1.704772; val loss: 1.809186\n",
            "(Epoch 14 / 15) train loss: 1.682347; val loss: 1.806705\n",
            "(Epoch 15 / 15) train loss: 1.660903; val loss: 1.802969\n",
            "\n",
            "Evaluating Config #10 [of 10]:\n",
            " {'learning_rate': 2.290718378777189e-05, 'reg': 1.1372901177960831e-05, 'hidden_size': 216, 'num_layer': 2, 'activation': <exercise_code.networks.layer.Relu object at 0x7fb69da8d190>, 'loss_func': <exercise_code.networks.loss.CrossEntropyFromLogits object at 0x7fb69da8d4d0>}\n",
            "(Epoch 1 / 15) train loss: 2.302620; val loss: 2.302668\n",
            "(Epoch 2 / 15) train loss: 2.272793; val loss: 2.194980\n",
            "(Epoch 3 / 15) train loss: 2.143087; val loss: 2.049875\n",
            "(Epoch 4 / 15) train loss: 2.038659; val loss: 1.964131\n",
            "(Epoch 5 / 15) train loss: 1.960503; val loss: 1.916067\n",
            "(Epoch 6 / 15) train loss: 1.901106; val loss: 1.881736\n",
            "(Epoch 7 / 15) train loss: 1.853088; val loss: 1.861412\n",
            "(Epoch 8 / 15) train loss: 1.813424; val loss: 1.842528\n",
            "(Epoch 9 / 15) train loss: 1.780142; val loss: 1.824136\n",
            "(Epoch 10 / 15) train loss: 1.748047; val loss: 1.815013\n",
            "(Epoch 11 / 15) train loss: 1.720112; val loss: 1.805658\n",
            "(Epoch 12 / 15) train loss: 1.692974; val loss: 1.799656\n",
            "(Epoch 13 / 15) train loss: 1.667009; val loss: 1.800813\n",
            "(Epoch 14 / 15) train loss: 1.644525; val loss: 1.787493\n",
            "(Epoch 15 / 15) train loss: 1.618935; val loss: 1.783763\n",
            "\n",
            "Search done. Best Val Loss = 1.7380999819438634\n",
            "Best Config: {'learning_rate': 6.03229711747361e-05, 'reg': 2.3663412674134123e-05, 'hidden_size': 214, 'num_layer': 2, 'activation': <exercise_code.networks.layer.Relu object at 0x7fb69da8d190>, 'loss_func': <exercise_code.networks.loss.CrossEntropyFromLogits object at 0x7fb69da8d4d0>}\n"
          ]
        }
      ]
    },
    {
      "cell_type": "code",
      "source": [
        "train_dataset = ImageFolderDataset(\n",
        "    mode='train',\n",
        "    root=cifar_root, \n",
        "    download_url=download_url,\n",
        "    transform=compose_transform,\n",
        "    limit_files=20000\n",
        ")\n",
        "dataloaders['train_20000files'] = DataLoader(\n",
        "    dataset=train_dataset,\n",
        "    batch_size=batch_size,\n",
        "    shuffle=True,\n",
        "    drop_last=False,\n",
        ")\n",
        "val_dataset = ImageFolderDataset(\n",
        "    mode='val',\n",
        "    root=cifar_root, \n",
        "    download_url=download_url,\n",
        "    transform=compose_transform,\n",
        "    limit_files=4000\n",
        ")\n",
        "dataloaders['val_4000files'] = DataLoader(\n",
        "    dataset=val_dataset,\n",
        "    batch_size=batch_size,\n",
        "    shuffle=True,\n",
        "    drop_last=True,\n",
        ")"
      ],
      "metadata": {
        "id": "oN-V_jNrt-Ie"
      },
      "execution_count": 22,
      "outputs": []
    },
    {
      "cell_type": "code",
      "execution_count": 23,
      "metadata": {
        "id": "QcR1l3VMIfcz",
        "colab": {
          "base_uri": "https://localhost:8080/"
        },
        "outputId": "6ccee460-2629-4255-8eae-93d618c84ce3"
      },
      "outputs": [
        {
          "output_type": "stream",
          "name": "stdout",
          "text": [
            "\n",
            "Evaluating Config #1 [of 1]:\n",
            " {'learning_rate': 3.000000000000001e-05, 'reg': 9.367873274922441e-05, 'hidden_size': 200, 'num_layer': 2, 'activation': <exercise_code.networks.layer.LeakyRelu object at 0x7fb69f0b0590>, 'loss_func': <exercise_code.networks.loss.CrossEntropyFromLogits object at 0x7fb69f0b0750>}\n",
            "(Epoch 1 / 20) train loss: 2.302661; val loss: 2.302661\n",
            "(Epoch 2 / 20) train loss: 1.897430; val loss: 1.773559\n",
            "(Epoch 3 / 20) train loss: 1.699298; val loss: 1.686216\n",
            "(Epoch 4 / 20) train loss: 1.615998; val loss: 1.639097\n",
            "(Epoch 5 / 20) train loss: 1.554758; val loss: 1.612875\n",
            "(Epoch 6 / 20) train loss: 1.506313; val loss: 1.583473\n",
            "(Epoch 7 / 20) train loss: 1.464229; val loss: 1.566901\n",
            "(Epoch 8 / 20) train loss: 1.426628; val loss: 1.556896\n",
            "(Epoch 9 / 20) train loss: 1.391641; val loss: 1.537291\n",
            "(Epoch 10 / 20) train loss: 1.357667; val loss: 1.543165\n",
            "(Epoch 11 / 20) train loss: 1.326770; val loss: 1.524927\n",
            "(Epoch 12 / 20) train loss: 1.297592; val loss: 1.517898\n",
            "(Epoch 13 / 20) train loss: 1.268081; val loss: 1.519690\n",
            "(Epoch 14 / 20) train loss: 1.240598; val loss: 1.506845\n",
            "(Epoch 15 / 20) train loss: 1.213537; val loss: 1.507700\n",
            "(Epoch 16 / 20) train loss: 1.186915; val loss: 1.504151\n",
            "(Epoch 17 / 20) train loss: 1.161428; val loss: 1.507027\n",
            "(Epoch 18 / 20) train loss: 1.135975; val loss: 1.502539\n",
            "(Epoch 19 / 20) train loss: 1.109947; val loss: 1.510489\n",
            "(Epoch 20 / 20) train loss: 1.086743; val loss: 1.513981\n",
            "\n",
            "Search done. Best Val Loss = 1.5025386173541593\n",
            "Best Config: {'learning_rate': 3.000000000000001e-05, 'reg': 9.367873274922441e-05, 'hidden_size': 200, 'num_layer': 2, 'activation': <exercise_code.networks.layer.LeakyRelu object at 0x7fb69f0b0590>, 'loss_func': <exercise_code.networks.loss.CrossEntropyFromLogits object at 0x7fb69f0b0750>}\n"
          ]
        }
      ],
      "source": [
        "from exercise_code.networks import MyOwnNetwork\n",
        "from exercise_code.hyperparameter_tuning import random_search\n",
        "best_model = ClassificationNet()\n",
        "\n",
        "########################################################################\n",
        "# TODO:                                                                #\n",
        "# Implement your own neural network and find suitable hyperparameters  #\n",
        "# Be sure to edit the MyOwnNetwork class in the following code snippet #\n",
        "# to upload the correct model!                                         #\n",
        "########################################################################\n",
        "best_model, results = random_search(\n",
        "    dataloaders['train_20000files'], dataloaders['val_4000files'],\n",
        "    random_search_spaces = {\n",
        "        \"learning_rate\": ([3e-05], 'log'),\n",
        "        \"reg\": ([1e-4, 1e-5], \"log\"),\n",
        "        \"hidden_size\": ([200], \"int\"),\n",
        "        \"num_layer\": ([2], \"int\"),\n",
        "        \"activation\": ([LeakyRelu()], \"item\"),\n",
        "        \"loss_func\": ([CrossEntropyFromLogits()], \"item\")\n",
        "    },\n",
        "    model_class=ClassificationNet,\n",
        "    num_search = 1, epochs=20, patience=5)\n",
        "########################################################################\n",
        "#                           END OF YOUR CODE                           #\n",
        "########################################################################"
      ]
    },
    {
      "cell_type": "markdown",
      "metadata": {
        "id": "AZXdSPYYIfc0"
      },
      "source": [
        "Now it's time to edit the ranges above and adjust them to explore regions that performed well!\n",
        "\n",
        "Also, feel free to experiment around! Also the network architecture, optimizer options and activations functions, etc. are hyperparameters that you can change!\n",
        "\n",
        "Try to get your accuracy as high as possible! That's all what counts for this submission!\n",
        "\n",
        "You'll pass if you reach at least **48%** accuracy on our test set - but there will also be a leaderboard of all students of this course. Will you make it to the top?"
      ]
    },
    {
      "cell_type": "markdown",
      "metadata": {
        "id": "WF6Mer9kIfc0"
      },
      "source": [
        "## 3.5 Checking the validation accuracy"
      ]
    },
    {
      "cell_type": "code",
      "execution_count": 24,
      "metadata": {
        "id": "vN3hJRBbIfc0",
        "colab": {
          "base_uri": "https://localhost:8080/"
        },
        "outputId": "053e3527-27c5-4f1e-80d8-c1be1448e8d2"
      },
      "outputs": [
        {
          "output_type": "stream",
          "name": "stdout",
          "text": [
            "Train Accuracy: 60.456730769230774%\n",
            "Validation Accuracy: 49.168669871794876%\n"
          ]
        }
      ],
      "source": [
        "labels, pred, acc = best_model.get_dataset_prediction(dataloaders['train'])\n",
        "print(\"Train Accuracy: {}%\".format(acc*100))\n",
        "labels, pred, acc = best_model.get_dataset_prediction(dataloaders['val'])\n",
        "print(\"Validation Accuracy: {}%\".format(acc*100))"
      ]
    },
    {
      "cell_type": "markdown",
      "metadata": {
        "id": "At-aZD61Ifc0"
      },
      "source": [
        "# 4. Test your model\n",
        "When you have finished your hyperparameter tuning and are sure you have your final model that performs well on the validation set (**you should at least get 48% accuracy on the validation set!**), it's time to run your  model on the test set.\n",
        "\n",
        "<div class=\"alert alert-danger\">\n",
        "    <h3>Important</h3>\n",
        "    <p>As you have learned in the lecture, you must only use the test set one single time! So only run the next cell if you are really sure your model works well enough and that you want to submit. Your test set is different from the test set on our server, so results may vary. Nevertheless, you will have a reasonable close approximation about your performance if you only do a final evaluation on the test set.</p>\n",
        "    <p>If you are an external student that can't use our submission webpage: this test performance is your final result and if you surpassed the threshold, you have completed this exercise :). Now, train again to aim for a better number!</p>\n",
        "</div>"
      ]
    },
    {
      "cell_type": "code",
      "execution_count": 31,
      "metadata": {
        "id": "WckmSCehIfc0",
        "colab": {
          "base_uri": "https://localhost:8080/"
        },
        "outputId": "5e6f5276-e21d-47aa-b6b2-b904f8c6ca9c"
      },
      "outputs": [
        {
          "output_type": "stream",
          "name": "stdout",
          "text": [
            "Test Accuracy: 48.61778846153847%\n"
          ]
        }
      ],
      "source": [
        "# comment this part out to see your model's performance on the test set.\n",
        "labels, pred, acc = best_model.get_dataset_prediction(dataloaders['test'])\n",
        "print(\"Test Accuracy: {}%\".format(acc*100))\n"
      ]
    },
    {
      "cell_type": "markdown",
      "metadata": {
        "id": "1bvHzaYHIfc0"
      },
      "source": [
        "<div class=\"alert alert-warning\">\n",
        "    <h3>Note:</h3>\n",
        "    <p>The \"real\" test set is actually the dataset we're using for testing your model, which is <b>different</b> from the test-set you're using here.</p>\n",
        "</div>"
      ]
    },
    {
      "cell_type": "markdown",
      "metadata": {
        "id": "itjvRhiZIfc0"
      },
      "source": [
        "# 5. Saving your Model"
      ]
    },
    {
      "cell_type": "code",
      "execution_count": 32,
      "metadata": {
        "id": "wRwSNtJGIfc0"
      },
      "outputs": [],
      "source": [
        "from exercise_code.tests import save_pickle\n",
        "save_pickle({\"cifar_fcn\": best_model}, \"cifar_fcn.p\")"
      ]
    },
    {
      "cell_type": "code",
      "execution_count": 33,
      "metadata": {
        "id": "tdIOliJLIfc1",
        "colab": {
          "base_uri": "https://localhost:8080/"
        },
        "outputId": "04f401a8-4e25-4bc8-9464-a3e359ec3567"
      },
      "outputs": [
        {
          "output_type": "stream",
          "name": "stdout",
          "text": [
            "relevant folders: ['exercise_code', 'models']\n",
            "notebooks files: ['1.cifar10_classification.ipynb']\n",
            "Adding folder exercise_code\n",
            "Adding folder models\n",
            "Adding notebook 1.cifar10_classification.ipynb\n",
            "Zipping successful! Zip is stored under: /content/drive/My Drive/Colab Notebooks/6/exercise_06_cleaned/exercise06.zip\n"
          ]
        }
      ],
      "source": [
        "from exercise_code.submit import submit_exercise\n",
        "\n",
        "submit_exercise('exercise06')"
      ]
    }
  ],
  "metadata": {
    "kernelspec": {
      "display_name": "Python 3",
      "language": "python",
      "name": "python3"
    },
    "language_info": {
      "codemirror_mode": {
        "name": "ipython",
        "version": 3
      },
      "file_extension": ".py",
      "mimetype": "text/x-python",
      "name": "python",
      "nbconvert_exporter": "python",
      "pygments_lexer": "ipython3",
      "version": "3.7.10"
    },
    "colab": {
      "name": "1.cifar10_classification.ipynb",
      "provenance": [],
      "collapsed_sections": [
        "ev9NZrRDIfcu",
        "lJjX3cgZIfcu",
        "nLiV_MYPIfcu",
        "v8bY432bIfcx"
      ]
    }
  },
  "nbformat": 4,
  "nbformat_minor": 0
}